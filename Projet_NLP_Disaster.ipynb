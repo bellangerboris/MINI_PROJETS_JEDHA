{
  "nbformat": 4,
  "nbformat_minor": 0,
  "metadata": {
    "accelerator": "GPU",
    "colab": {
      "name": "NLP_DISASTER_V2_collab-SAMEDI-OK.ipynb",
      "provenance": [],
      "collapsed_sections": [
        "jMIoshk7z31F"
      ],
      "toc_visible": true
    },
    "kernelspec": {
      "display_name": "Python 3",
      "language": "python",
      "name": "python3"
    },
    "language_info": {
      "codemirror_mode": {
        "name": "ipython",
        "version": 3
      },
      "file_extension": ".py",
      "mimetype": "text/x-python",
      "name": "python",
      "nbconvert_exporter": "python",
      "pygments_lexer": "ipython3",
      "version": "3.7.6"
    }
  },
  "cells": [
    {
      "cell_type": "code",
      "metadata": {
        "colab_type": "code",
        "id": "pm60bFfcO9Fc",
        "colab": {}
      },
      "source": [
        "import pandas as pd\n",
        "import numpy as np\n",
        "import matplotlib.pyplot as plt\n"
      ],
      "execution_count": 0,
      "outputs": []
    },
    {
      "cell_type": "markdown",
      "metadata": {
        "id": "4zExD2epz30O",
        "colab_type": "text"
      },
      "source": [
        "#### Import des données"
      ]
    },
    {
      "cell_type": "code",
      "metadata": {
        "colab_type": "code",
        "id": "hprkIIB0PWZ0",
        "outputId": "7fd0b9e9-2ff0-4ec5-994c-72e698e3b02f",
        "scrolled": true,
        "colab": {
          "base_uri": "https://localhost:8080/",
          "height": 359
        }
      },
      "source": [
        "data_train=pd.read_csv(\"train.csv\")\n",
        "data_train.head(10)"
      ],
      "execution_count": 2,
      "outputs": [
        {
          "output_type": "execute_result",
          "data": {
            "text/html": [
              "<div>\n",
              "<style scoped>\n",
              "    .dataframe tbody tr th:only-of-type {\n",
              "        vertical-align: middle;\n",
              "    }\n",
              "\n",
              "    .dataframe tbody tr th {\n",
              "        vertical-align: top;\n",
              "    }\n",
              "\n",
              "    .dataframe thead th {\n",
              "        text-align: right;\n",
              "    }\n",
              "</style>\n",
              "<table border=\"1\" class=\"dataframe\">\n",
              "  <thead>\n",
              "    <tr style=\"text-align: right;\">\n",
              "      <th></th>\n",
              "      <th>id</th>\n",
              "      <th>keyword</th>\n",
              "      <th>location</th>\n",
              "      <th>text</th>\n",
              "      <th>target</th>\n",
              "    </tr>\n",
              "  </thead>\n",
              "  <tbody>\n",
              "    <tr>\n",
              "      <th>0</th>\n",
              "      <td>1</td>\n",
              "      <td>NaN</td>\n",
              "      <td>NaN</td>\n",
              "      <td>Our Deeds are the Reason of this #earthquake M...</td>\n",
              "      <td>1</td>\n",
              "    </tr>\n",
              "    <tr>\n",
              "      <th>1</th>\n",
              "      <td>4</td>\n",
              "      <td>NaN</td>\n",
              "      <td>NaN</td>\n",
              "      <td>Forest fire near La Ronge Sask. Canada</td>\n",
              "      <td>1</td>\n",
              "    </tr>\n",
              "    <tr>\n",
              "      <th>2</th>\n",
              "      <td>5</td>\n",
              "      <td>NaN</td>\n",
              "      <td>NaN</td>\n",
              "      <td>All residents asked to 'shelter in place' are ...</td>\n",
              "      <td>1</td>\n",
              "    </tr>\n",
              "    <tr>\n",
              "      <th>3</th>\n",
              "      <td>6</td>\n",
              "      <td>NaN</td>\n",
              "      <td>NaN</td>\n",
              "      <td>13,000 people receive #wildfires evacuation or...</td>\n",
              "      <td>1</td>\n",
              "    </tr>\n",
              "    <tr>\n",
              "      <th>4</th>\n",
              "      <td>7</td>\n",
              "      <td>NaN</td>\n",
              "      <td>NaN</td>\n",
              "      <td>Just got sent this photo from Ruby #Alaska as ...</td>\n",
              "      <td>1</td>\n",
              "    </tr>\n",
              "    <tr>\n",
              "      <th>5</th>\n",
              "      <td>8</td>\n",
              "      <td>NaN</td>\n",
              "      <td>NaN</td>\n",
              "      <td>#RockyFire Update =&gt; California Hwy. 20 closed...</td>\n",
              "      <td>1</td>\n",
              "    </tr>\n",
              "    <tr>\n",
              "      <th>6</th>\n",
              "      <td>10</td>\n",
              "      <td>NaN</td>\n",
              "      <td>NaN</td>\n",
              "      <td>#flood #disaster Heavy rain causes flash flood...</td>\n",
              "      <td>1</td>\n",
              "    </tr>\n",
              "    <tr>\n",
              "      <th>7</th>\n",
              "      <td>13</td>\n",
              "      <td>NaN</td>\n",
              "      <td>NaN</td>\n",
              "      <td>I'm on top of the hill and I can see a fire in...</td>\n",
              "      <td>1</td>\n",
              "    </tr>\n",
              "    <tr>\n",
              "      <th>8</th>\n",
              "      <td>14</td>\n",
              "      <td>NaN</td>\n",
              "      <td>NaN</td>\n",
              "      <td>There's an emergency evacuation happening now ...</td>\n",
              "      <td>1</td>\n",
              "    </tr>\n",
              "    <tr>\n",
              "      <th>9</th>\n",
              "      <td>15</td>\n",
              "      <td>NaN</td>\n",
              "      <td>NaN</td>\n",
              "      <td>I'm afraid that the tornado is coming to our a...</td>\n",
              "      <td>1</td>\n",
              "    </tr>\n",
              "  </tbody>\n",
              "</table>\n",
              "</div>"
            ],
            "text/plain": [
              "   id keyword  ...                                               text target\n",
              "0   1     NaN  ...  Our Deeds are the Reason of this #earthquake M...      1\n",
              "1   4     NaN  ...             Forest fire near La Ronge Sask. Canada      1\n",
              "2   5     NaN  ...  All residents asked to 'shelter in place' are ...      1\n",
              "3   6     NaN  ...  13,000 people receive #wildfires evacuation or...      1\n",
              "4   7     NaN  ...  Just got sent this photo from Ruby #Alaska as ...      1\n",
              "5   8     NaN  ...  #RockyFire Update => California Hwy. 20 closed...      1\n",
              "6  10     NaN  ...  #flood #disaster Heavy rain causes flash flood...      1\n",
              "7  13     NaN  ...  I'm on top of the hill and I can see a fire in...      1\n",
              "8  14     NaN  ...  There's an emergency evacuation happening now ...      1\n",
              "9  15     NaN  ...  I'm afraid that the tornado is coming to our a...      1\n",
              "\n",
              "[10 rows x 5 columns]"
            ]
          },
          "metadata": {
            "tags": []
          },
          "execution_count": 2
        }
      ]
    },
    {
      "cell_type": "code",
      "metadata": {
        "id": "bpzxyC2hz30T",
        "colab_type": "code",
        "outputId": "760a39c4-b34d-4928-df66-e8b23fedfdb7",
        "colab": {
          "base_uri": "https://localhost:8080/",
          "height": 390
        }
      },
      "source": [
        "data_train.describe(include = \"all\")"
      ],
      "execution_count": 3,
      "outputs": [
        {
          "output_type": "execute_result",
          "data": {
            "text/html": [
              "<div>\n",
              "<style scoped>\n",
              "    .dataframe tbody tr th:only-of-type {\n",
              "        vertical-align: middle;\n",
              "    }\n",
              "\n",
              "    .dataframe tbody tr th {\n",
              "        vertical-align: top;\n",
              "    }\n",
              "\n",
              "    .dataframe thead th {\n",
              "        text-align: right;\n",
              "    }\n",
              "</style>\n",
              "<table border=\"1\" class=\"dataframe\">\n",
              "  <thead>\n",
              "    <tr style=\"text-align: right;\">\n",
              "      <th></th>\n",
              "      <th>id</th>\n",
              "      <th>keyword</th>\n",
              "      <th>location</th>\n",
              "      <th>text</th>\n",
              "      <th>target</th>\n",
              "    </tr>\n",
              "  </thead>\n",
              "  <tbody>\n",
              "    <tr>\n",
              "      <th>count</th>\n",
              "      <td>7613.000000</td>\n",
              "      <td>7552</td>\n",
              "      <td>5080</td>\n",
              "      <td>7613</td>\n",
              "      <td>7613.00000</td>\n",
              "    </tr>\n",
              "    <tr>\n",
              "      <th>unique</th>\n",
              "      <td>NaN</td>\n",
              "      <td>221</td>\n",
              "      <td>3341</td>\n",
              "      <td>7503</td>\n",
              "      <td>NaN</td>\n",
              "    </tr>\n",
              "    <tr>\n",
              "      <th>top</th>\n",
              "      <td>NaN</td>\n",
              "      <td>fatalities</td>\n",
              "      <td>USA</td>\n",
              "      <td>11-Year-Old Boy Charged With Manslaughter of T...</td>\n",
              "      <td>NaN</td>\n",
              "    </tr>\n",
              "    <tr>\n",
              "      <th>freq</th>\n",
              "      <td>NaN</td>\n",
              "      <td>45</td>\n",
              "      <td>104</td>\n",
              "      <td>10</td>\n",
              "      <td>NaN</td>\n",
              "    </tr>\n",
              "    <tr>\n",
              "      <th>mean</th>\n",
              "      <td>5441.934848</td>\n",
              "      <td>NaN</td>\n",
              "      <td>NaN</td>\n",
              "      <td>NaN</td>\n",
              "      <td>0.42966</td>\n",
              "    </tr>\n",
              "    <tr>\n",
              "      <th>std</th>\n",
              "      <td>3137.116090</td>\n",
              "      <td>NaN</td>\n",
              "      <td>NaN</td>\n",
              "      <td>NaN</td>\n",
              "      <td>0.49506</td>\n",
              "    </tr>\n",
              "    <tr>\n",
              "      <th>min</th>\n",
              "      <td>1.000000</td>\n",
              "      <td>NaN</td>\n",
              "      <td>NaN</td>\n",
              "      <td>NaN</td>\n",
              "      <td>0.00000</td>\n",
              "    </tr>\n",
              "    <tr>\n",
              "      <th>25%</th>\n",
              "      <td>2734.000000</td>\n",
              "      <td>NaN</td>\n",
              "      <td>NaN</td>\n",
              "      <td>NaN</td>\n",
              "      <td>0.00000</td>\n",
              "    </tr>\n",
              "    <tr>\n",
              "      <th>50%</th>\n",
              "      <td>5408.000000</td>\n",
              "      <td>NaN</td>\n",
              "      <td>NaN</td>\n",
              "      <td>NaN</td>\n",
              "      <td>0.00000</td>\n",
              "    </tr>\n",
              "    <tr>\n",
              "      <th>75%</th>\n",
              "      <td>8146.000000</td>\n",
              "      <td>NaN</td>\n",
              "      <td>NaN</td>\n",
              "      <td>NaN</td>\n",
              "      <td>1.00000</td>\n",
              "    </tr>\n",
              "    <tr>\n",
              "      <th>max</th>\n",
              "      <td>10873.000000</td>\n",
              "      <td>NaN</td>\n",
              "      <td>NaN</td>\n",
              "      <td>NaN</td>\n",
              "      <td>1.00000</td>\n",
              "    </tr>\n",
              "  </tbody>\n",
              "</table>\n",
              "</div>"
            ],
            "text/plain": [
              "                  id  ...      target\n",
              "count    7613.000000  ...  7613.00000\n",
              "unique           NaN  ...         NaN\n",
              "top              NaN  ...         NaN\n",
              "freq             NaN  ...         NaN\n",
              "mean     5441.934848  ...     0.42966\n",
              "std      3137.116090  ...     0.49506\n",
              "min         1.000000  ...     0.00000\n",
              "25%      2734.000000  ...     0.00000\n",
              "50%      5408.000000  ...     0.00000\n",
              "75%      8146.000000  ...     1.00000\n",
              "max     10873.000000  ...     1.00000\n",
              "\n",
              "[11 rows x 5 columns]"
            ]
          },
          "metadata": {
            "tags": []
          },
          "execution_count": 3
        }
      ]
    },
    {
      "cell_type": "code",
      "metadata": {
        "colab_type": "code",
        "id": "5hQ2EcsTPc3c",
        "outputId": "fdc247ca-4031-413d-d3fd-9efdce22d3d5",
        "scrolled": true,
        "colab": {
          "base_uri": "https://localhost:8080/",
          "height": 204
        }
      },
      "source": [
        "data_test=pd.read_csv(\"test.csv\")\n",
        "data_test.head()"
      ],
      "execution_count": 4,
      "outputs": [
        {
          "output_type": "execute_result",
          "data": {
            "text/html": [
              "<div>\n",
              "<style scoped>\n",
              "    .dataframe tbody tr th:only-of-type {\n",
              "        vertical-align: middle;\n",
              "    }\n",
              "\n",
              "    .dataframe tbody tr th {\n",
              "        vertical-align: top;\n",
              "    }\n",
              "\n",
              "    .dataframe thead th {\n",
              "        text-align: right;\n",
              "    }\n",
              "</style>\n",
              "<table border=\"1\" class=\"dataframe\">\n",
              "  <thead>\n",
              "    <tr style=\"text-align: right;\">\n",
              "      <th></th>\n",
              "      <th>id</th>\n",
              "      <th>keyword</th>\n",
              "      <th>location</th>\n",
              "      <th>text</th>\n",
              "    </tr>\n",
              "  </thead>\n",
              "  <tbody>\n",
              "    <tr>\n",
              "      <th>0</th>\n",
              "      <td>0</td>\n",
              "      <td>NaN</td>\n",
              "      <td>NaN</td>\n",
              "      <td>Just happened a terrible car crash</td>\n",
              "    </tr>\n",
              "    <tr>\n",
              "      <th>1</th>\n",
              "      <td>2</td>\n",
              "      <td>NaN</td>\n",
              "      <td>NaN</td>\n",
              "      <td>Heard about #earthquake is different cities, s...</td>\n",
              "    </tr>\n",
              "    <tr>\n",
              "      <th>2</th>\n",
              "      <td>3</td>\n",
              "      <td>NaN</td>\n",
              "      <td>NaN</td>\n",
              "      <td>there is a forest fire at spot pond, geese are...</td>\n",
              "    </tr>\n",
              "    <tr>\n",
              "      <th>3</th>\n",
              "      <td>9</td>\n",
              "      <td>NaN</td>\n",
              "      <td>NaN</td>\n",
              "      <td>Apocalypse lighting. #Spokane #wildfires</td>\n",
              "    </tr>\n",
              "    <tr>\n",
              "      <th>4</th>\n",
              "      <td>11</td>\n",
              "      <td>NaN</td>\n",
              "      <td>NaN</td>\n",
              "      <td>Typhoon Soudelor kills 28 in China and Taiwan</td>\n",
              "    </tr>\n",
              "  </tbody>\n",
              "</table>\n",
              "</div>"
            ],
            "text/plain": [
              "   id keyword location                                               text\n",
              "0   0     NaN      NaN                 Just happened a terrible car crash\n",
              "1   2     NaN      NaN  Heard about #earthquake is different cities, s...\n",
              "2   3     NaN      NaN  there is a forest fire at spot pond, geese are...\n",
              "3   9     NaN      NaN           Apocalypse lighting. #Spokane #wildfires\n",
              "4  11     NaN      NaN      Typhoon Soudelor kills 28 in China and Taiwan"
            ]
          },
          "metadata": {
            "tags": []
          },
          "execution_count": 4
        }
      ]
    },
    {
      "cell_type": "code",
      "metadata": {
        "colab_type": "code",
        "id": "0hyqbPP8P_vt",
        "outputId": "38bf2df6-b565-4587-da78-31ceeac43e38",
        "colab": {
          "base_uri": "https://localhost:8080/",
          "height": 68
        }
      },
      "source": [
        "data_train.target.value_counts()"
      ],
      "execution_count": 5,
      "outputs": [
        {
          "output_type": "execute_result",
          "data": {
            "text/plain": [
              "0    4342\n",
              "1    3271\n",
              "Name: target, dtype: int64"
            ]
          },
          "metadata": {
            "tags": []
          },
          "execution_count": 5
        }
      ]
    },
    {
      "cell_type": "code",
      "metadata": {
        "colab_type": "code",
        "id": "8kYc76JNQLcB",
        "outputId": "79c01bf3-bf17-4078-e922-80bde031d055",
        "colab": {
          "base_uri": "https://localhost:8080/",
          "height": 34
        }
      },
      "source": [
        "data_train.keyword.isna().sum()"
      ],
      "execution_count": 6,
      "outputs": [
        {
          "output_type": "execute_result",
          "data": {
            "text/plain": [
              "61"
            ]
          },
          "metadata": {
            "tags": []
          },
          "execution_count": 6
        }
      ]
    },
    {
      "cell_type": "code",
      "metadata": {
        "colab_type": "code",
        "id": "PKqNLXUAgz04",
        "outputId": "a38d9f96-003d-40c9-928b-1c8fb3946268",
        "colab": {
          "base_uri": "https://localhost:8080/",
          "height": 799
        }
      },
      "source": [
        "data_train.keyword.unique()"
      ],
      "execution_count": 7,
      "outputs": [
        {
          "output_type": "execute_result",
          "data": {
            "text/plain": [
              "array([nan, 'ablaze', 'accident', 'aftershock', 'airplane%20accident',\n",
              "       'ambulance', 'annihilated', 'annihilation', 'apocalypse',\n",
              "       'armageddon', 'army', 'arson', 'arsonist', 'attack', 'attacked',\n",
              "       'avalanche', 'battle', 'bioterror', 'bioterrorism', 'blaze',\n",
              "       'blazing', 'bleeding', 'blew%20up', 'blight', 'blizzard', 'blood',\n",
              "       'bloody', 'blown%20up', 'body%20bag', 'body%20bagging',\n",
              "       'body%20bags', 'bomb', 'bombed', 'bombing', 'bridge%20collapse',\n",
              "       'buildings%20burning', 'buildings%20on%20fire', 'burned',\n",
              "       'burning', 'burning%20buildings', 'bush%20fires', 'casualties',\n",
              "       'casualty', 'catastrophe', 'catastrophic', 'chemical%20emergency',\n",
              "       'cliff%20fall', 'collapse', 'collapsed', 'collide', 'collided',\n",
              "       'collision', 'crash', 'crashed', 'crush', 'crushed', 'curfew',\n",
              "       'cyclone', 'damage', 'danger', 'dead', 'death', 'deaths', 'debris',\n",
              "       'deluge', 'deluged', 'demolish', 'demolished', 'demolition',\n",
              "       'derail', 'derailed', 'derailment', 'desolate', 'desolation',\n",
              "       'destroy', 'destroyed', 'destruction', 'detonate', 'detonation',\n",
              "       'devastated', 'devastation', 'disaster', 'displaced', 'drought',\n",
              "       'drown', 'drowned', 'drowning', 'dust%20storm', 'earthquake',\n",
              "       'electrocute', 'electrocuted', 'emergency', 'emergency%20plan',\n",
              "       'emergency%20services', 'engulfed', 'epicentre', 'evacuate',\n",
              "       'evacuated', 'evacuation', 'explode', 'exploded', 'explosion',\n",
              "       'eyewitness', 'famine', 'fatal', 'fatalities', 'fatality', 'fear',\n",
              "       'fire', 'fire%20truck', 'first%20responders', 'flames',\n",
              "       'flattened', 'flood', 'flooding', 'floods', 'forest%20fire',\n",
              "       'forest%20fires', 'hail', 'hailstorm', 'harm', 'hazard',\n",
              "       'hazardous', 'heat%20wave', 'hellfire', 'hijack', 'hijacker',\n",
              "       'hijacking', 'hostage', 'hostages', 'hurricane', 'injured',\n",
              "       'injuries', 'injury', 'inundated', 'inundation', 'landslide',\n",
              "       'lava', 'lightning', 'loud%20bang', 'mass%20murder',\n",
              "       'mass%20murderer', 'massacre', 'mayhem', 'meltdown', 'military',\n",
              "       'mudslide', 'natural%20disaster', 'nuclear%20disaster',\n",
              "       'nuclear%20reactor', 'obliterate', 'obliterated', 'obliteration',\n",
              "       'oil%20spill', 'outbreak', 'pandemonium', 'panic', 'panicking',\n",
              "       'police', 'quarantine', 'quarantined', 'radiation%20emergency',\n",
              "       'rainstorm', 'razed', 'refugees', 'rescue', 'rescued', 'rescuers',\n",
              "       'riot', 'rioting', 'rubble', 'ruin', 'sandstorm', 'screamed',\n",
              "       'screaming', 'screams', 'seismic', 'sinkhole', 'sinking', 'siren',\n",
              "       'sirens', 'smoke', 'snowstorm', 'storm', 'stretcher',\n",
              "       'structural%20failure', 'suicide%20bomb', 'suicide%20bomber',\n",
              "       'suicide%20bombing', 'sunk', 'survive', 'survived', 'survivors',\n",
              "       'terrorism', 'terrorist', 'threat', 'thunder', 'thunderstorm',\n",
              "       'tornado', 'tragedy', 'trapped', 'trauma', 'traumatised',\n",
              "       'trouble', 'tsunami', 'twister', 'typhoon', 'upheaval',\n",
              "       'violent%20storm', 'volcano', 'war%20zone', 'weapon', 'weapons',\n",
              "       'whirlwind', 'wild%20fires', 'wildfire', 'windstorm', 'wounded',\n",
              "       'wounds', 'wreck', 'wreckage', 'wrecked'], dtype=object)"
            ]
          },
          "metadata": {
            "tags": []
          },
          "execution_count": 7
        }
      ]
    },
    {
      "cell_type": "code",
      "metadata": {
        "colab_type": "code",
        "id": "w5iXbDqAiDZw",
        "outputId": "64b030aa-02b6-4d24-8f9e-7535fc9e4d0c",
        "colab": {
          "base_uri": "https://localhost:8080/",
          "height": 221
        }
      },
      "source": [
        "data_train.keyword.value_counts(normalize= True)"
      ],
      "execution_count": 8,
      "outputs": [
        {
          "output_type": "execute_result",
          "data": {
            "text/plain": [
              "fatalities               0.005959\n",
              "deluge                   0.005561\n",
              "armageddon               0.005561\n",
              "sinking                  0.005429\n",
              "body%20bags              0.005429\n",
              "                           ...   \n",
              "forest%20fire            0.002516\n",
              "epicentre                0.001589\n",
              "threat                   0.001457\n",
              "inundation               0.001324\n",
              "radiation%20emergency    0.001192\n",
              "Name: keyword, Length: 221, dtype: float64"
            ]
          },
          "metadata": {
            "tags": []
          },
          "execution_count": 8
        }
      ]
    },
    {
      "cell_type": "code",
      "metadata": {
        "id": "FoXcbtSCz30j",
        "colab_type": "code",
        "colab": {}
      },
      "source": [
        "keyword_disaster=data_train[data_train[\"target\"] == 1].dropna()\n",
        "keyword_no_disaster=data_train[data_train[\"target\"] == 0].dropna()"
      ],
      "execution_count": 0,
      "outputs": []
    },
    {
      "cell_type": "code",
      "metadata": {
        "scrolled": false,
        "id": "UPAnjJ1Uz30l",
        "colab_type": "code",
        "outputId": "4c967918-5a9b-465b-c91d-adfbcf4463e9",
        "colab": {
          "base_uri": "https://localhost:8080/",
          "height": 204
        }
      },
      "source": [
        "keyword_no_disaster.head()"
      ],
      "execution_count": 10,
      "outputs": [
        {
          "output_type": "execute_result",
          "data": {
            "text/html": [
              "<div>\n",
              "<style scoped>\n",
              "    .dataframe tbody tr th:only-of-type {\n",
              "        vertical-align: middle;\n",
              "    }\n",
              "\n",
              "    .dataframe tbody tr th {\n",
              "        vertical-align: top;\n",
              "    }\n",
              "\n",
              "    .dataframe thead th {\n",
              "        text-align: right;\n",
              "    }\n",
              "</style>\n",
              "<table border=\"1\" class=\"dataframe\">\n",
              "  <thead>\n",
              "    <tr style=\"text-align: right;\">\n",
              "      <th></th>\n",
              "      <th>id</th>\n",
              "      <th>keyword</th>\n",
              "      <th>location</th>\n",
              "      <th>text</th>\n",
              "      <th>target</th>\n",
              "    </tr>\n",
              "  </thead>\n",
              "  <tbody>\n",
              "    <tr>\n",
              "      <th>32</th>\n",
              "      <td>49</td>\n",
              "      <td>ablaze</td>\n",
              "      <td>Est. September 2012 - Bristol</td>\n",
              "      <td>We always try to bring the heavy. #metal #RT h...</td>\n",
              "      <td>0</td>\n",
              "    </tr>\n",
              "    <tr>\n",
              "      <th>34</th>\n",
              "      <td>52</td>\n",
              "      <td>ablaze</td>\n",
              "      <td>Philadelphia, PA</td>\n",
              "      <td>Crying out for more! Set me ablaze</td>\n",
              "      <td>0</td>\n",
              "    </tr>\n",
              "    <tr>\n",
              "      <th>35</th>\n",
              "      <td>53</td>\n",
              "      <td>ablaze</td>\n",
              "      <td>London, UK</td>\n",
              "      <td>On plus side LOOK AT THE SKY LAST NIGHT IT WAS...</td>\n",
              "      <td>0</td>\n",
              "    </tr>\n",
              "    <tr>\n",
              "      <th>36</th>\n",
              "      <td>54</td>\n",
              "      <td>ablaze</td>\n",
              "      <td>Pretoria</td>\n",
              "      <td>@PhDSquares #mufc they've built so much hype a...</td>\n",
              "      <td>0</td>\n",
              "    </tr>\n",
              "    <tr>\n",
              "      <th>39</th>\n",
              "      <td>57</td>\n",
              "      <td>ablaze</td>\n",
              "      <td>Paranaque City</td>\n",
              "      <td>Ablaze for you Lord :D</td>\n",
              "      <td>0</td>\n",
              "    </tr>\n",
              "  </tbody>\n",
              "</table>\n",
              "</div>"
            ],
            "text/plain": [
              "    id keyword  ...                                               text target\n",
              "32  49  ablaze  ...  We always try to bring the heavy. #metal #RT h...      0\n",
              "34  52  ablaze  ...                 Crying out for more! Set me ablaze      0\n",
              "35  53  ablaze  ...  On plus side LOOK AT THE SKY LAST NIGHT IT WAS...      0\n",
              "36  54  ablaze  ...  @PhDSquares #mufc they've built so much hype a...      0\n",
              "39  57  ablaze  ...                             Ablaze for you Lord :D      0\n",
              "\n",
              "[5 rows x 5 columns]"
            ]
          },
          "metadata": {
            "tags": []
          },
          "execution_count": 10
        }
      ]
    },
    {
      "cell_type": "code",
      "metadata": {
        "id": "fS-dn0Usz30m",
        "colab_type": "code",
        "outputId": "bf94512c-aa2c-4000-906f-cf19d3c4a2d0",
        "colab": {
          "base_uri": "https://localhost:8080/",
          "height": 419
        }
      },
      "source": [
        "data_train[[\"keyword\",\"text\"]][data_train[\"target\"] == 1].dropna()"
      ],
      "execution_count": 11,
      "outputs": [
        {
          "output_type": "execute_result",
          "data": {
            "text/html": [
              "<div>\n",
              "<style scoped>\n",
              "    .dataframe tbody tr th:only-of-type {\n",
              "        vertical-align: middle;\n",
              "    }\n",
              "\n",
              "    .dataframe tbody tr th {\n",
              "        vertical-align: top;\n",
              "    }\n",
              "\n",
              "    .dataframe thead th {\n",
              "        text-align: right;\n",
              "    }\n",
              "</style>\n",
              "<table border=\"1\" class=\"dataframe\">\n",
              "  <thead>\n",
              "    <tr style=\"text-align: right;\">\n",
              "      <th></th>\n",
              "      <th>keyword</th>\n",
              "      <th>text</th>\n",
              "    </tr>\n",
              "  </thead>\n",
              "  <tbody>\n",
              "    <tr>\n",
              "      <th>31</th>\n",
              "      <td>ablaze</td>\n",
              "      <td>@bbcmtd Wholesale Markets ablaze http://t.co/l...</td>\n",
              "    </tr>\n",
              "    <tr>\n",
              "      <th>33</th>\n",
              "      <td>ablaze</td>\n",
              "      <td>#AFRICANBAZE: Breaking news:Nigeria flag set a...</td>\n",
              "    </tr>\n",
              "    <tr>\n",
              "      <th>37</th>\n",
              "      <td>ablaze</td>\n",
              "      <td>INEC Office in Abia Set Ablaze - http://t.co/3...</td>\n",
              "    </tr>\n",
              "    <tr>\n",
              "      <th>38</th>\n",
              "      <td>ablaze</td>\n",
              "      <td>Barbados #Bridgetown JAMAICA ÛÒ Two cars set ...</td>\n",
              "    </tr>\n",
              "    <tr>\n",
              "      <th>46</th>\n",
              "      <td>ablaze</td>\n",
              "      <td>How the West was burned: Thousands of wildfire...</td>\n",
              "    </tr>\n",
              "    <tr>\n",
              "      <th>...</th>\n",
              "      <td>...</td>\n",
              "      <td>...</td>\n",
              "    </tr>\n",
              "    <tr>\n",
              "      <th>7542</th>\n",
              "      <td>wreckage</td>\n",
              "      <td>Wreckage 'conclusively confirmed' as from miss...</td>\n",
              "    </tr>\n",
              "    <tr>\n",
              "      <th>7543</th>\n",
              "      <td>wreckage</td>\n",
              "      <td>Wreckage 'Conclusively Confirmed' as From MH37...</td>\n",
              "    </tr>\n",
              "    <tr>\n",
              "      <th>7552</th>\n",
              "      <td>wrecked</td>\n",
              "      <td>Israel wrecked my home. Now it wants my land. ...</td>\n",
              "    </tr>\n",
              "    <tr>\n",
              "      <th>7559</th>\n",
              "      <td>wrecked</td>\n",
              "      <td>300K exotic car wrecked in train accident \\nht...</td>\n",
              "    </tr>\n",
              "    <tr>\n",
              "      <th>7572</th>\n",
              "      <td>wrecked</td>\n",
              "      <td>@Kirafrog @mount_wario Did you get wrecked again?</td>\n",
              "    </tr>\n",
              "  </tbody>\n",
              "</table>\n",
              "<p>3229 rows × 2 columns</p>\n",
              "</div>"
            ],
            "text/plain": [
              "       keyword                                               text\n",
              "31      ablaze  @bbcmtd Wholesale Markets ablaze http://t.co/l...\n",
              "33      ablaze  #AFRICANBAZE: Breaking news:Nigeria flag set a...\n",
              "37      ablaze  INEC Office in Abia Set Ablaze - http://t.co/3...\n",
              "38      ablaze  Barbados #Bridgetown JAMAICA ÛÒ Two cars set ...\n",
              "46      ablaze  How the West was burned: Thousands of wildfire...\n",
              "...        ...                                                ...\n",
              "7542  wreckage  Wreckage 'conclusively confirmed' as from miss...\n",
              "7543  wreckage  Wreckage 'Conclusively Confirmed' as From MH37...\n",
              "7552   wrecked  Israel wrecked my home. Now it wants my land. ...\n",
              "7559   wrecked  300K exotic car wrecked in train accident \\nht...\n",
              "7572   wrecked  @Kirafrog @mount_wario Did you get wrecked again?\n",
              "\n",
              "[3229 rows x 2 columns]"
            ]
          },
          "metadata": {
            "tags": []
          },
          "execution_count": 11
        }
      ]
    },
    {
      "cell_type": "code",
      "metadata": {
        "scrolled": false,
        "id": "MLDmpvLFz30o",
        "colab_type": "code",
        "outputId": "39726106-b550-43a3-ce81-ef6670c8b139",
        "colab": {
          "base_uri": "https://localhost:8080/",
          "height": 221
        }
      },
      "source": [
        "keyword_disaster.keyword.value_counts(normalize=True)"
      ],
      "execution_count": 12,
      "outputs": [
        {
          "output_type": "execute_result",
          "data": {
            "text/plain": [
              "outbreak                 0.013661\n",
              "wreckage                 0.012750\n",
              "oil%20spill              0.012295\n",
              "collision                0.011840\n",
              "buildings%20on%20fire    0.011384\n",
              "                           ...   \n",
              "screaming                0.000455\n",
              "epicentre                0.000455\n",
              "electrocute              0.000455\n",
              "crush                    0.000455\n",
              "blazing                  0.000455\n",
              "Name: keyword, Length: 218, dtype: float64"
            ]
          },
          "metadata": {
            "tags": []
          },
          "execution_count": 12
        }
      ]
    },
    {
      "cell_type": "code",
      "metadata": {
        "scrolled": true,
        "id": "e9JwM9Wuz30q",
        "colab_type": "code",
        "outputId": "777d442c-2387-4510-d021-fe75db37dfe1",
        "colab": {
          "base_uri": "https://localhost:8080/",
          "height": 221
        }
      },
      "source": [
        "keyword_no_disaster.keyword.value_counts(normalize=True)"
      ],
      "execution_count": 13,
      "outputs": [
        {
          "output_type": "execute_result",
          "data": {
            "text/plain": [
              "armageddon      0.009709\n",
              "ruin            0.009362\n",
              "harm            0.009015\n",
              "fear            0.008669\n",
              "upheaval        0.008669\n",
              "                  ...   \n",
              "bioterrorism    0.000693\n",
              "rescuers        0.000347\n",
              "outbreak        0.000347\n",
              "typhoon         0.000347\n",
              "bombing         0.000347\n",
              "Name: keyword, Length: 215, dtype: float64"
            ]
          },
          "metadata": {
            "tags": []
          },
          "execution_count": 13
        }
      ]
    },
    {
      "cell_type": "code",
      "metadata": {
        "id": "8HCjHsmYz30s",
        "colab_type": "code",
        "outputId": "7b7fc6f0-6848-49ea-f09e-7c52b0f8a08f",
        "colab": {
          "base_uri": "https://localhost:8080/",
          "height": 917
        }
      },
      "source": [
        "keyword_no_disaster[keyword_no_disaster.keyword.str.contains(\"armageddon\")]"
      ],
      "execution_count": 14,
      "outputs": [
        {
          "output_type": "execute_result",
          "data": {
            "text/html": [
              "<div>\n",
              "<style scoped>\n",
              "    .dataframe tbody tr th:only-of-type {\n",
              "        vertical-align: middle;\n",
              "    }\n",
              "\n",
              "    .dataframe tbody tr th {\n",
              "        vertical-align: top;\n",
              "    }\n",
              "\n",
              "    .dataframe thead th {\n",
              "        text-align: right;\n",
              "    }\n",
              "</style>\n",
              "<table border=\"1\" class=\"dataframe\">\n",
              "  <thead>\n",
              "    <tr style=\"text-align: right;\">\n",
              "      <th></th>\n",
              "      <th>id</th>\n",
              "      <th>keyword</th>\n",
              "      <th>location</th>\n",
              "      <th>text</th>\n",
              "      <th>target</th>\n",
              "    </tr>\n",
              "  </thead>\n",
              "  <tbody>\n",
              "    <tr>\n",
              "      <th>304</th>\n",
              "      <td>446</td>\n",
              "      <td>armageddon</td>\n",
              "      <td>California, United States</td>\n",
              "      <td>#PBBan (Temporary:300) avYsss @'aRmageddon | D...</td>\n",
              "      <td>0</td>\n",
              "    </tr>\n",
              "    <tr>\n",
              "      <th>305</th>\n",
              "      <td>447</td>\n",
              "      <td>armageddon</td>\n",
              "      <td>California, United States</td>\n",
              "      <td>#PBBan (Temporary:300) Russaky89 @'aRmageddon ...</td>\n",
              "      <td>0</td>\n",
              "    </tr>\n",
              "    <tr>\n",
              "      <th>306</th>\n",
              "      <td>448</td>\n",
              "      <td>armageddon</td>\n",
              "      <td>#FLIGHTCITY UK</td>\n",
              "      <td>((OFFICIAL VID)) #DoubleCups &amp;gt;&amp;gt; https://...</td>\n",
              "      <td>0</td>\n",
              "    </tr>\n",
              "    <tr>\n",
              "      <th>309</th>\n",
              "      <td>452</td>\n",
              "      <td>armageddon</td>\n",
              "      <td>Alphen aan den Rijn, Holland</td>\n",
              "      <td>Bed time. Don't wake me up unless revolution o...</td>\n",
              "      <td>0</td>\n",
              "    </tr>\n",
              "    <tr>\n",
              "      <th>311</th>\n",
              "      <td>454</td>\n",
              "      <td>armageddon</td>\n",
              "      <td>Wrigley Field</td>\n",
              "      <td>@KatieKatCubs you already know how this shit g...</td>\n",
              "      <td>0</td>\n",
              "    </tr>\n",
              "    <tr>\n",
              "      <th>313</th>\n",
              "      <td>456</td>\n",
              "      <td>armageddon</td>\n",
              "      <td>probably the strip club</td>\n",
              "      <td>//im gonna beat armageddon as Hsu Hao ????\\nju...</td>\n",
              "      <td>0</td>\n",
              "    </tr>\n",
              "    <tr>\n",
              "      <th>314</th>\n",
              "      <td>457</td>\n",
              "      <td>armageddon</td>\n",
              "      <td>Canada</td>\n",
              "      <td>@ENews Ben Affleck......I know there's a wife/...</td>\n",
              "      <td>0</td>\n",
              "    </tr>\n",
              "    <tr>\n",
              "      <th>315</th>\n",
              "      <td>459</td>\n",
              "      <td>armageddon</td>\n",
              "      <td>England</td>\n",
              "      <td>'If I'd have had a long coat to hand I'd have ...</td>\n",
              "      <td>0</td>\n",
              "    </tr>\n",
              "    <tr>\n",
              "      <th>316</th>\n",
              "      <td>461</td>\n",
              "      <td>armageddon</td>\n",
              "      <td>USA</td>\n",
              "      <td>YOUR PHONE IS SPYING ON YOU! Hidden Back Door ...</td>\n",
              "      <td>0</td>\n",
              "    </tr>\n",
              "    <tr>\n",
              "      <th>319</th>\n",
              "      <td>465</td>\n",
              "      <td>armageddon</td>\n",
              "      <td>California, United States</td>\n",
              "      <td>#PBBan (Temporary:300) fighterdena @'aRmageddo...</td>\n",
              "      <td>0</td>\n",
              "    </tr>\n",
              "    <tr>\n",
              "      <th>320</th>\n",
              "      <td>466</td>\n",
              "      <td>armageddon</td>\n",
              "      <td>New York City</td>\n",
              "      <td>Photo: Sketch I did based on the A Taste of Ar...</td>\n",
              "      <td>0</td>\n",
              "    </tr>\n",
              "    <tr>\n",
              "      <th>322</th>\n",
              "      <td>468</td>\n",
              "      <td>armageddon</td>\n",
              "      <td>Rotterdam, Zuid-Holland</td>\n",
              "      <td>@AberdeenFC @AberdeenFanPage \\n\\nGood luck to ...</td>\n",
              "      <td>0</td>\n",
              "    </tr>\n",
              "    <tr>\n",
              "      <th>323</th>\n",
              "      <td>469</td>\n",
              "      <td>armageddon</td>\n",
              "      <td>Derry, 17</td>\n",
              "      <td>@paddytomlinson1 ARMAGEDDON</td>\n",
              "      <td>0</td>\n",
              "    </tr>\n",
              "    <tr>\n",
              "      <th>324</th>\n",
              "      <td>470</td>\n",
              "      <td>armageddon</td>\n",
              "      <td>Nowhere. Everywhere.</td>\n",
              "      <td>@RohnertParkDPS You're another one for the his...</td>\n",
              "      <td>0</td>\n",
              "    </tr>\n",
              "    <tr>\n",
              "      <th>326</th>\n",
              "      <td>472</td>\n",
              "      <td>armageddon</td>\n",
              "      <td>Worldwide</td>\n",
              "      <td>God's Kingdom (Heavenly Gov't) will rule over ...</td>\n",
              "      <td>0</td>\n",
              "    </tr>\n",
              "    <tr>\n",
              "      <th>328</th>\n",
              "      <td>475</td>\n",
              "      <td>armageddon</td>\n",
              "      <td>Nowhere. Everywhere.</td>\n",
              "      <td>LetÛªs talk some more about your goof guild S...</td>\n",
              "      <td>0</td>\n",
              "    </tr>\n",
              "    <tr>\n",
              "      <th>329</th>\n",
              "      <td>476</td>\n",
              "      <td>armageddon</td>\n",
              "      <td>East Coast</td>\n",
              "      <td>@Karnythia my niece is gaining the ability to ...</td>\n",
              "      <td>0</td>\n",
              "    </tr>\n",
              "    <tr>\n",
              "      <th>330</th>\n",
              "      <td>477</td>\n",
              "      <td>armageddon</td>\n",
              "      <td>California</td>\n",
              "      <td>Check out #PREPPERS #DOOMSDAY MUST HAVE LIBRAR...</td>\n",
              "      <td>0</td>\n",
              "    </tr>\n",
              "    <tr>\n",
              "      <th>333</th>\n",
              "      <td>480</td>\n",
              "      <td>armageddon</td>\n",
              "      <td>The Orwellion police-state</td>\n",
              "      <td>Sadly How Windows 10 Reveals Microsoft's Ethic...</td>\n",
              "      <td>0</td>\n",
              "    </tr>\n",
              "    <tr>\n",
              "      <th>334</th>\n",
              "      <td>481</td>\n",
              "      <td>armageddon</td>\n",
              "      <td>Castaic, CA</td>\n",
              "      <td>Armageddon averted by El Patron\\n#UltimaLucha</td>\n",
              "      <td>0</td>\n",
              "    </tr>\n",
              "    <tr>\n",
              "      <th>335</th>\n",
              "      <td>482</td>\n",
              "      <td>armageddon</td>\n",
              "      <td>Helsinki, Finland</td>\n",
              "      <td>@samihonkonen If you have the time (23 hours ?...</td>\n",
              "      <td>0</td>\n",
              "    </tr>\n",
              "    <tr>\n",
              "      <th>336</th>\n",
              "      <td>483</td>\n",
              "      <td>armageddon</td>\n",
              "      <td>East Kilbride</td>\n",
              "      <td>European Fitba till Christmas  ARMAGEDDON</td>\n",
              "      <td>0</td>\n",
              "    </tr>\n",
              "    <tr>\n",
              "      <th>338</th>\n",
              "      <td>485</td>\n",
              "      <td>armageddon</td>\n",
              "      <td>#FLIGHTCITY UK</td>\n",
              "      <td>(OFFICIAL VID) &amp;gt; #DoubleCups &amp;gt;&amp;gt; https...</td>\n",
              "      <td>0</td>\n",
              "    </tr>\n",
              "    <tr>\n",
              "      <th>339</th>\n",
              "      <td>486</td>\n",
              "      <td>armageddon</td>\n",
              "      <td>middle eastern palace</td>\n",
              "      <td>Tomorrow is the day we start armageddon #prese...</td>\n",
              "      <td>0</td>\n",
              "    </tr>\n",
              "    <tr>\n",
              "      <th>340</th>\n",
              "      <td>487</td>\n",
              "      <td>armageddon</td>\n",
              "      <td>Kent</td>\n",
              "      <td>Lee does comedy: ÛÏ@LeeJasper: Working class ...</td>\n",
              "      <td>0</td>\n",
              "    </tr>\n",
              "    <tr>\n",
              "      <th>343</th>\n",
              "      <td>492</td>\n",
              "      <td>armageddon</td>\n",
              "      <td>Nowhere. Everywhere.</td>\n",
              "      <td>@RohnertParkDPS You're on stage now! Right und...</td>\n",
              "      <td>0</td>\n",
              "    </tr>\n",
              "    <tr>\n",
              "      <th>344</th>\n",
              "      <td>493</td>\n",
              "      <td>armageddon</td>\n",
              "      <td>#FLIGHTCITY UK</td>\n",
              "      <td>**OFFICIAL VID** #TheReal &amp;gt;&amp;gt;&amp;gt; https:/...</td>\n",
              "      <td>0</td>\n",
              "    </tr>\n",
              "    <tr>\n",
              "      <th>345</th>\n",
              "      <td>495</td>\n",
              "      <td>armageddon</td>\n",
              "      <td>Perthshire</td>\n",
              "      <td>Well done Celtic Fingers crossed for Aberdeen ...</td>\n",
              "      <td>0</td>\n",
              "    </tr>\n",
              "  </tbody>\n",
              "</table>\n",
              "</div>"
            ],
            "text/plain": [
              "      id     keyword  ...                                               text target\n",
              "304  446  armageddon  ...  #PBBan (Temporary:300) avYsss @'aRmageddon | D...      0\n",
              "305  447  armageddon  ...  #PBBan (Temporary:300) Russaky89 @'aRmageddon ...      0\n",
              "306  448  armageddon  ...  ((OFFICIAL VID)) #DoubleCups &gt;&gt; https://...      0\n",
              "309  452  armageddon  ...  Bed time. Don't wake me up unless revolution o...      0\n",
              "311  454  armageddon  ...  @KatieKatCubs you already know how this shit g...      0\n",
              "313  456  armageddon  ...  //im gonna beat armageddon as Hsu Hao ????\\nju...      0\n",
              "314  457  armageddon  ...  @ENews Ben Affleck......I know there's a wife/...      0\n",
              "315  459  armageddon  ...  'If I'd have had a long coat to hand I'd have ...      0\n",
              "316  461  armageddon  ...  YOUR PHONE IS SPYING ON YOU! Hidden Back Door ...      0\n",
              "319  465  armageddon  ...  #PBBan (Temporary:300) fighterdena @'aRmageddo...      0\n",
              "320  466  armageddon  ...  Photo: Sketch I did based on the A Taste of Ar...      0\n",
              "322  468  armageddon  ...  @AberdeenFC @AberdeenFanPage \\n\\nGood luck to ...      0\n",
              "323  469  armageddon  ...                        @paddytomlinson1 ARMAGEDDON      0\n",
              "324  470  armageddon  ...  @RohnertParkDPS You're another one for the his...      0\n",
              "326  472  armageddon  ...  God's Kingdom (Heavenly Gov't) will rule over ...      0\n",
              "328  475  armageddon  ...  LetÛªs talk some more about your goof guild S...      0\n",
              "329  476  armageddon  ...  @Karnythia my niece is gaining the ability to ...      0\n",
              "330  477  armageddon  ...  Check out #PREPPERS #DOOMSDAY MUST HAVE LIBRAR...      0\n",
              "333  480  armageddon  ...  Sadly How Windows 10 Reveals Microsoft's Ethic...      0\n",
              "334  481  armageddon  ...      Armageddon averted by El Patron\\n#UltimaLucha      0\n",
              "335  482  armageddon  ...  @samihonkonen If you have the time (23 hours ?...      0\n",
              "336  483  armageddon  ...          European Fitba till Christmas  ARMAGEDDON      0\n",
              "338  485  armageddon  ...  (OFFICIAL VID) &gt; #DoubleCups &gt;&gt; https...      0\n",
              "339  486  armageddon  ...  Tomorrow is the day we start armageddon #prese...      0\n",
              "340  487  armageddon  ...  Lee does comedy: ÛÏ@LeeJasper: Working class ...      0\n",
              "343  492  armageddon  ...  @RohnertParkDPS You're on stage now! Right und...      0\n",
              "344  493  armageddon  ...  **OFFICIAL VID** #TheReal &gt;&gt;&gt; https:/...      0\n",
              "345  495  armageddon  ...  Well done Celtic Fingers crossed for Aberdeen ...      0\n",
              "\n",
              "[28 rows x 5 columns]"
            ]
          },
          "metadata": {
            "tags": []
          },
          "execution_count": 14
        }
      ]
    },
    {
      "cell_type": "code",
      "metadata": {
        "colab_type": "code",
        "id": "1ItH64yKjw7a",
        "colab": {}
      },
      "source": [
        "keyword=data_train.keyword.dropna()"
      ],
      "execution_count": 0,
      "outputs": []
    },
    {
      "cell_type": "code",
      "metadata": {
        "colab_type": "code",
        "id": "JYPlkZQEj5hC",
        "outputId": "82f493be-5e95-483b-e4a4-52d77a652a93",
        "colab": {
          "base_uri": "https://localhost:8080/",
          "height": 221
        }
      },
      "source": [
        "keyword"
      ],
      "execution_count": 16,
      "outputs": [
        {
          "output_type": "execute_result",
          "data": {
            "text/plain": [
              "31       ablaze\n",
              "32       ablaze\n",
              "33       ablaze\n",
              "34       ablaze\n",
              "35       ablaze\n",
              "         ...   \n",
              "7578    wrecked\n",
              "7579    wrecked\n",
              "7580    wrecked\n",
              "7581    wrecked\n",
              "7582    wrecked\n",
              "Name: keyword, Length: 7552, dtype: object"
            ]
          },
          "metadata": {
            "tags": []
          },
          "execution_count": 16
        }
      ]
    },
    {
      "cell_type": "code",
      "metadata": {
        "colab_type": "code",
        "id": "r6ZaB1NFQ_4v",
        "outputId": "9564f55d-f5ff-4919-fb66-85359ced85fb",
        "colab": {
          "base_uri": "https://localhost:8080/",
          "height": 359
        }
      },
      "source": [
        "data_train[data_train.text.str.contains(\"11-Year-Old\")]"
      ],
      "execution_count": 17,
      "outputs": [
        {
          "output_type": "execute_result",
          "data": {
            "text/html": [
              "<div>\n",
              "<style scoped>\n",
              "    .dataframe tbody tr th:only-of-type {\n",
              "        vertical-align: middle;\n",
              "    }\n",
              "\n",
              "    .dataframe tbody tr th {\n",
              "        vertical-align: top;\n",
              "    }\n",
              "\n",
              "    .dataframe thead th {\n",
              "        text-align: right;\n",
              "    }\n",
              "</style>\n",
              "<table border=\"1\" class=\"dataframe\">\n",
              "  <thead>\n",
              "    <tr style=\"text-align: right;\">\n",
              "      <th></th>\n",
              "      <th>id</th>\n",
              "      <th>keyword</th>\n",
              "      <th>location</th>\n",
              "      <th>text</th>\n",
              "      <th>target</th>\n",
              "    </tr>\n",
              "  </thead>\n",
              "  <tbody>\n",
              "    <tr>\n",
              "      <th>3578</th>\n",
              "      <td>5113</td>\n",
              "      <td>fatal</td>\n",
              "      <td>NaN</td>\n",
              "      <td>11-Year-Old Boy Charged With Manslaughter of T...</td>\n",
              "      <td>1</td>\n",
              "    </tr>\n",
              "    <tr>\n",
              "      <th>3589</th>\n",
              "      <td>5127</td>\n",
              "      <td>fatal</td>\n",
              "      <td>Varanasi</td>\n",
              "      <td>11-Year-Old Boy Charged With Manslaughter of T...</td>\n",
              "      <td>1</td>\n",
              "    </tr>\n",
              "    <tr>\n",
              "      <th>3591</th>\n",
              "      <td>5130</td>\n",
              "      <td>fatal</td>\n",
              "      <td>Thane</td>\n",
              "      <td>11-Year-Old Boy Charged With Manslaughter of T...</td>\n",
              "      <td>1</td>\n",
              "    </tr>\n",
              "    <tr>\n",
              "      <th>3597</th>\n",
              "      <td>5137</td>\n",
              "      <td>fatal</td>\n",
              "      <td>NaN</td>\n",
              "      <td>11-Year-Old Boy Charged With Manslaughter of T...</td>\n",
              "      <td>1</td>\n",
              "    </tr>\n",
              "    <tr>\n",
              "      <th>3600</th>\n",
              "      <td>5140</td>\n",
              "      <td>fatal</td>\n",
              "      <td>NaN</td>\n",
              "      <td>11-Year-Old Boy Charged With Manslaughter of T...</td>\n",
              "      <td>1</td>\n",
              "    </tr>\n",
              "    <tr>\n",
              "      <th>3603</th>\n",
              "      <td>5144</td>\n",
              "      <td>fatal</td>\n",
              "      <td>NaN</td>\n",
              "      <td>11-Year-Old Boy Charged With Manslaughter of T...</td>\n",
              "      <td>1</td>\n",
              "    </tr>\n",
              "    <tr>\n",
              "      <th>3604</th>\n",
              "      <td>5145</td>\n",
              "      <td>fatal</td>\n",
              "      <td>Bangalore</td>\n",
              "      <td>11-Year-Old Boy Charged With Manslaughter of T...</td>\n",
              "      <td>1</td>\n",
              "    </tr>\n",
              "    <tr>\n",
              "      <th>3610</th>\n",
              "      <td>5153</td>\n",
              "      <td>fatal</td>\n",
              "      <td>Dimapur</td>\n",
              "      <td>11-Year-Old Boy Charged With Manslaughter of T...</td>\n",
              "      <td>1</td>\n",
              "    </tr>\n",
              "    <tr>\n",
              "      <th>3613</th>\n",
              "      <td>5157</td>\n",
              "      <td>fatal</td>\n",
              "      <td>NaN</td>\n",
              "      <td>11-Year-Old Boy Charged With Manslaughter of T...</td>\n",
              "      <td>1</td>\n",
              "    </tr>\n",
              "    <tr>\n",
              "      <th>3614</th>\n",
              "      <td>5159</td>\n",
              "      <td>fatal</td>\n",
              "      <td>NaN</td>\n",
              "      <td>11-Year-Old Boy Charged With Manslaughter of T...</td>\n",
              "      <td>1</td>\n",
              "    </tr>\n",
              "  </tbody>\n",
              "</table>\n",
              "</div>"
            ],
            "text/plain": [
              "        id keyword  ...                                               text target\n",
              "3578  5113   fatal  ...  11-Year-Old Boy Charged With Manslaughter of T...      1\n",
              "3589  5127   fatal  ...  11-Year-Old Boy Charged With Manslaughter of T...      1\n",
              "3591  5130   fatal  ...  11-Year-Old Boy Charged With Manslaughter of T...      1\n",
              "3597  5137   fatal  ...  11-Year-Old Boy Charged With Manslaughter of T...      1\n",
              "3600  5140   fatal  ...  11-Year-Old Boy Charged With Manslaughter of T...      1\n",
              "3603  5144   fatal  ...  11-Year-Old Boy Charged With Manslaughter of T...      1\n",
              "3604  5145   fatal  ...  11-Year-Old Boy Charged With Manslaughter of T...      1\n",
              "3610  5153   fatal  ...  11-Year-Old Boy Charged With Manslaughter of T...      1\n",
              "3613  5157   fatal  ...  11-Year-Old Boy Charged With Manslaughter of T...      1\n",
              "3614  5159   fatal  ...  11-Year-Old Boy Charged With Manslaughter of T...      1\n",
              "\n",
              "[10 rows x 5 columns]"
            ]
          },
          "metadata": {
            "tags": []
          },
          "execution_count": 17
        }
      ]
    },
    {
      "cell_type": "code",
      "metadata": {
        "colab_type": "code",
        "id": "3CiJuyVvUzTo",
        "outputId": "ef5e7e3f-fb7f-4c30-ccbe-aa2ee5331114",
        "colab": {
          "base_uri": "https://localhost:8080/",
          "height": 221
        }
      },
      "source": [
        "data_train.location.value_counts()"
      ],
      "execution_count": 18,
      "outputs": [
        {
          "output_type": "execute_result",
          "data": {
            "text/plain": [
              "USA                              104\n",
              "New York                          71\n",
              "United States                     50\n",
              "London                            45\n",
              "Canada                            29\n",
              "                                ... \n",
              "Û¢ Views From The Six Û¢         1\n",
              "Pro-American and Anti-#Occupy      1\n",
              "QLD Australia                      1\n",
              "SoDak                              1\n",
              "az                                 1\n",
              "Name: location, Length: 3341, dtype: int64"
            ]
          },
          "metadata": {
            "tags": []
          },
          "execution_count": 18
        }
      ]
    },
    {
      "cell_type": "code",
      "metadata": {
        "colab_type": "code",
        "id": "twtuIuSqS5cb",
        "outputId": "62fbaf8b-e44a-47f0-8366-8a5ac3042b9d",
        "scrolled": true,
        "colab": {
          "base_uri": "https://localhost:8080/",
          "height": 390
        }
      },
      "source": [
        "data_train = data_train.drop_duplicates(subset=\"text\")\n",
        "data_train.describe(include=\"all\")"
      ],
      "execution_count": 19,
      "outputs": [
        {
          "output_type": "execute_result",
          "data": {
            "text/html": [
              "<div>\n",
              "<style scoped>\n",
              "    .dataframe tbody tr th:only-of-type {\n",
              "        vertical-align: middle;\n",
              "    }\n",
              "\n",
              "    .dataframe tbody tr th {\n",
              "        vertical-align: top;\n",
              "    }\n",
              "\n",
              "    .dataframe thead th {\n",
              "        text-align: right;\n",
              "    }\n",
              "</style>\n",
              "<table border=\"1\" class=\"dataframe\">\n",
              "  <thead>\n",
              "    <tr style=\"text-align: right;\">\n",
              "      <th></th>\n",
              "      <th>id</th>\n",
              "      <th>keyword</th>\n",
              "      <th>location</th>\n",
              "      <th>text</th>\n",
              "      <th>target</th>\n",
              "    </tr>\n",
              "  </thead>\n",
              "  <tbody>\n",
              "    <tr>\n",
              "      <th>count</th>\n",
              "      <td>7503.000000</td>\n",
              "      <td>7447</td>\n",
              "      <td>5021</td>\n",
              "      <td>7503</td>\n",
              "      <td>7503.000000</td>\n",
              "    </tr>\n",
              "    <tr>\n",
              "      <th>unique</th>\n",
              "      <td>NaN</td>\n",
              "      <td>221</td>\n",
              "      <td>3327</td>\n",
              "      <td>7503</td>\n",
              "      <td>NaN</td>\n",
              "    </tr>\n",
              "    <tr>\n",
              "      <th>top</th>\n",
              "      <td>NaN</td>\n",
              "      <td>fatalities</td>\n",
              "      <td>USA</td>\n",
              "      <td>Finnish nuclear plant to move ahead after fina...</td>\n",
              "      <td>NaN</td>\n",
              "    </tr>\n",
              "    <tr>\n",
              "      <th>freq</th>\n",
              "      <td>NaN</td>\n",
              "      <td>45</td>\n",
              "      <td>104</td>\n",
              "      <td>1</td>\n",
              "      <td>NaN</td>\n",
              "    </tr>\n",
              "    <tr>\n",
              "      <th>mean</th>\n",
              "      <td>5439.831401</td>\n",
              "      <td>NaN</td>\n",
              "      <td>NaN</td>\n",
              "      <td>NaN</td>\n",
              "      <td>0.426230</td>\n",
              "    </tr>\n",
              "    <tr>\n",
              "      <th>std</th>\n",
              "      <td>3141.748725</td>\n",
              "      <td>NaN</td>\n",
              "      <td>NaN</td>\n",
              "      <td>NaN</td>\n",
              "      <td>0.494561</td>\n",
              "    </tr>\n",
              "    <tr>\n",
              "      <th>min</th>\n",
              "      <td>1.000000</td>\n",
              "      <td>NaN</td>\n",
              "      <td>NaN</td>\n",
              "      <td>NaN</td>\n",
              "      <td>0.000000</td>\n",
              "    </tr>\n",
              "    <tr>\n",
              "      <th>25%</th>\n",
              "      <td>2726.500000</td>\n",
              "      <td>NaN</td>\n",
              "      <td>NaN</td>\n",
              "      <td>NaN</td>\n",
              "      <td>0.000000</td>\n",
              "    </tr>\n",
              "    <tr>\n",
              "      <th>50%</th>\n",
              "      <td>5408.000000</td>\n",
              "      <td>NaN</td>\n",
              "      <td>NaN</td>\n",
              "      <td>NaN</td>\n",
              "      <td>0.000000</td>\n",
              "    </tr>\n",
              "    <tr>\n",
              "      <th>75%</th>\n",
              "      <td>8149.500000</td>\n",
              "      <td>NaN</td>\n",
              "      <td>NaN</td>\n",
              "      <td>NaN</td>\n",
              "      <td>1.000000</td>\n",
              "    </tr>\n",
              "    <tr>\n",
              "      <th>max</th>\n",
              "      <td>10873.000000</td>\n",
              "      <td>NaN</td>\n",
              "      <td>NaN</td>\n",
              "      <td>NaN</td>\n",
              "      <td>1.000000</td>\n",
              "    </tr>\n",
              "  </tbody>\n",
              "</table>\n",
              "</div>"
            ],
            "text/plain": [
              "                  id  ...       target\n",
              "count    7503.000000  ...  7503.000000\n",
              "unique           NaN  ...          NaN\n",
              "top              NaN  ...          NaN\n",
              "freq             NaN  ...          NaN\n",
              "mean     5439.831401  ...     0.426230\n",
              "std      3141.748725  ...     0.494561\n",
              "min         1.000000  ...     0.000000\n",
              "25%      2726.500000  ...     0.000000\n",
              "50%      5408.000000  ...     0.000000\n",
              "75%      8149.500000  ...     1.000000\n",
              "max     10873.000000  ...     1.000000\n",
              "\n",
              "[11 rows x 5 columns]"
            ]
          },
          "metadata": {
            "tags": []
          },
          "execution_count": 19
        }
      ]
    },
    {
      "cell_type": "markdown",
      "metadata": {
        "id": "lKGO7Rt3z300",
        "colab_type": "text"
      },
      "source": [
        "### Cleaning des tweets sur le train et le test set"
      ]
    },
    {
      "cell_type": "code",
      "metadata": {
        "id": "F7WjO-X0z300",
        "colab_type": "code",
        "outputId": "231e5a7e-5176-4f63-8e23-d05bda59ca26",
        "colab": {
          "base_uri": "https://localhost:8080/",
          "height": 34
        }
      },
      "source": [
        "df=pd.concat([data_train,data_test])\n",
        "df.shape\n"
      ],
      "execution_count": 20,
      "outputs": [
        {
          "output_type": "execute_result",
          "data": {
            "text/plain": [
              "(10766, 5)"
            ]
          },
          "metadata": {
            "tags": []
          },
          "execution_count": 20
        }
      ]
    },
    {
      "cell_type": "code",
      "metadata": {
        "id": "Zv923bavz301",
        "colab_type": "code",
        "outputId": "6a25f6c0-e48a-4924-fb58-cccb1e7669aa",
        "colab": {
          "base_uri": "https://localhost:8080/",
          "height": 204
        }
      },
      "source": [
        "df.tail()"
      ],
      "execution_count": 21,
      "outputs": [
        {
          "output_type": "execute_result",
          "data": {
            "text/html": [
              "<div>\n",
              "<style scoped>\n",
              "    .dataframe tbody tr th:only-of-type {\n",
              "        vertical-align: middle;\n",
              "    }\n",
              "\n",
              "    .dataframe tbody tr th {\n",
              "        vertical-align: top;\n",
              "    }\n",
              "\n",
              "    .dataframe thead th {\n",
              "        text-align: right;\n",
              "    }\n",
              "</style>\n",
              "<table border=\"1\" class=\"dataframe\">\n",
              "  <thead>\n",
              "    <tr style=\"text-align: right;\">\n",
              "      <th></th>\n",
              "      <th>id</th>\n",
              "      <th>keyword</th>\n",
              "      <th>location</th>\n",
              "      <th>text</th>\n",
              "      <th>target</th>\n",
              "    </tr>\n",
              "  </thead>\n",
              "  <tbody>\n",
              "    <tr>\n",
              "      <th>3258</th>\n",
              "      <td>10861</td>\n",
              "      <td>NaN</td>\n",
              "      <td>NaN</td>\n",
              "      <td>EARTHQUAKE SAFETY LOS ANGELES ÛÒ SAFETY FASTE...</td>\n",
              "      <td>NaN</td>\n",
              "    </tr>\n",
              "    <tr>\n",
              "      <th>3259</th>\n",
              "      <td>10865</td>\n",
              "      <td>NaN</td>\n",
              "      <td>NaN</td>\n",
              "      <td>Storm in RI worse than last hurricane. My city...</td>\n",
              "      <td>NaN</td>\n",
              "    </tr>\n",
              "    <tr>\n",
              "      <th>3260</th>\n",
              "      <td>10868</td>\n",
              "      <td>NaN</td>\n",
              "      <td>NaN</td>\n",
              "      <td>Green Line derailment in Chicago http://t.co/U...</td>\n",
              "      <td>NaN</td>\n",
              "    </tr>\n",
              "    <tr>\n",
              "      <th>3261</th>\n",
              "      <td>10874</td>\n",
              "      <td>NaN</td>\n",
              "      <td>NaN</td>\n",
              "      <td>MEG issues Hazardous Weather Outlook (HWO) htt...</td>\n",
              "      <td>NaN</td>\n",
              "    </tr>\n",
              "    <tr>\n",
              "      <th>3262</th>\n",
              "      <td>10875</td>\n",
              "      <td>NaN</td>\n",
              "      <td>NaN</td>\n",
              "      <td>#CityofCalgary has activated its Municipal Eme...</td>\n",
              "      <td>NaN</td>\n",
              "    </tr>\n",
              "  </tbody>\n",
              "</table>\n",
              "</div>"
            ],
            "text/plain": [
              "         id keyword  ...                                               text target\n",
              "3258  10861     NaN  ...  EARTHQUAKE SAFETY LOS ANGELES ÛÒ SAFETY FASTE...    NaN\n",
              "3259  10865     NaN  ...  Storm in RI worse than last hurricane. My city...    NaN\n",
              "3260  10868     NaN  ...  Green Line derailment in Chicago http://t.co/U...    NaN\n",
              "3261  10874     NaN  ...  MEG issues Hazardous Weather Outlook (HWO) htt...    NaN\n",
              "3262  10875     NaN  ...  #CityofCalgary has activated its Municipal Eme...    NaN\n",
              "\n",
              "[5 rows x 5 columns]"
            ]
          },
          "metadata": {
            "tags": []
          },
          "execution_count": 21
        }
      ]
    },
    {
      "cell_type": "code",
      "metadata": {
        "scrolled": true,
        "id": "vwwncPsiz302",
        "colab_type": "code",
        "outputId": "14193adb-9819-452e-8418-621e1815351a",
        "colab": {
          "base_uri": "https://localhost:8080/",
          "height": 419
        }
      },
      "source": [
        "df[df.target.isna()]"
      ],
      "execution_count": 22,
      "outputs": [
        {
          "output_type": "execute_result",
          "data": {
            "text/html": [
              "<div>\n",
              "<style scoped>\n",
              "    .dataframe tbody tr th:only-of-type {\n",
              "        vertical-align: middle;\n",
              "    }\n",
              "\n",
              "    .dataframe tbody tr th {\n",
              "        vertical-align: top;\n",
              "    }\n",
              "\n",
              "    .dataframe thead th {\n",
              "        text-align: right;\n",
              "    }\n",
              "</style>\n",
              "<table border=\"1\" class=\"dataframe\">\n",
              "  <thead>\n",
              "    <tr style=\"text-align: right;\">\n",
              "      <th></th>\n",
              "      <th>id</th>\n",
              "      <th>keyword</th>\n",
              "      <th>location</th>\n",
              "      <th>text</th>\n",
              "      <th>target</th>\n",
              "    </tr>\n",
              "  </thead>\n",
              "  <tbody>\n",
              "    <tr>\n",
              "      <th>0</th>\n",
              "      <td>0</td>\n",
              "      <td>NaN</td>\n",
              "      <td>NaN</td>\n",
              "      <td>Just happened a terrible car crash</td>\n",
              "      <td>NaN</td>\n",
              "    </tr>\n",
              "    <tr>\n",
              "      <th>1</th>\n",
              "      <td>2</td>\n",
              "      <td>NaN</td>\n",
              "      <td>NaN</td>\n",
              "      <td>Heard about #earthquake is different cities, s...</td>\n",
              "      <td>NaN</td>\n",
              "    </tr>\n",
              "    <tr>\n",
              "      <th>2</th>\n",
              "      <td>3</td>\n",
              "      <td>NaN</td>\n",
              "      <td>NaN</td>\n",
              "      <td>there is a forest fire at spot pond, geese are...</td>\n",
              "      <td>NaN</td>\n",
              "    </tr>\n",
              "    <tr>\n",
              "      <th>3</th>\n",
              "      <td>9</td>\n",
              "      <td>NaN</td>\n",
              "      <td>NaN</td>\n",
              "      <td>Apocalypse lighting. #Spokane #wildfires</td>\n",
              "      <td>NaN</td>\n",
              "    </tr>\n",
              "    <tr>\n",
              "      <th>4</th>\n",
              "      <td>11</td>\n",
              "      <td>NaN</td>\n",
              "      <td>NaN</td>\n",
              "      <td>Typhoon Soudelor kills 28 in China and Taiwan</td>\n",
              "      <td>NaN</td>\n",
              "    </tr>\n",
              "    <tr>\n",
              "      <th>...</th>\n",
              "      <td>...</td>\n",
              "      <td>...</td>\n",
              "      <td>...</td>\n",
              "      <td>...</td>\n",
              "      <td>...</td>\n",
              "    </tr>\n",
              "    <tr>\n",
              "      <th>3258</th>\n",
              "      <td>10861</td>\n",
              "      <td>NaN</td>\n",
              "      <td>NaN</td>\n",
              "      <td>EARTHQUAKE SAFETY LOS ANGELES ÛÒ SAFETY FASTE...</td>\n",
              "      <td>NaN</td>\n",
              "    </tr>\n",
              "    <tr>\n",
              "      <th>3259</th>\n",
              "      <td>10865</td>\n",
              "      <td>NaN</td>\n",
              "      <td>NaN</td>\n",
              "      <td>Storm in RI worse than last hurricane. My city...</td>\n",
              "      <td>NaN</td>\n",
              "    </tr>\n",
              "    <tr>\n",
              "      <th>3260</th>\n",
              "      <td>10868</td>\n",
              "      <td>NaN</td>\n",
              "      <td>NaN</td>\n",
              "      <td>Green Line derailment in Chicago http://t.co/U...</td>\n",
              "      <td>NaN</td>\n",
              "    </tr>\n",
              "    <tr>\n",
              "      <th>3261</th>\n",
              "      <td>10874</td>\n",
              "      <td>NaN</td>\n",
              "      <td>NaN</td>\n",
              "      <td>MEG issues Hazardous Weather Outlook (HWO) htt...</td>\n",
              "      <td>NaN</td>\n",
              "    </tr>\n",
              "    <tr>\n",
              "      <th>3262</th>\n",
              "      <td>10875</td>\n",
              "      <td>NaN</td>\n",
              "      <td>NaN</td>\n",
              "      <td>#CityofCalgary has activated its Municipal Eme...</td>\n",
              "      <td>NaN</td>\n",
              "    </tr>\n",
              "  </tbody>\n",
              "</table>\n",
              "<p>3263 rows × 5 columns</p>\n",
              "</div>"
            ],
            "text/plain": [
              "         id keyword  ...                                               text target\n",
              "0         0     NaN  ...                 Just happened a terrible car crash    NaN\n",
              "1         2     NaN  ...  Heard about #earthquake is different cities, s...    NaN\n",
              "2         3     NaN  ...  there is a forest fire at spot pond, geese are...    NaN\n",
              "3         9     NaN  ...           Apocalypse lighting. #Spokane #wildfires    NaN\n",
              "4        11     NaN  ...      Typhoon Soudelor kills 28 in China and Taiwan    NaN\n",
              "...     ...     ...  ...                                                ...    ...\n",
              "3258  10861     NaN  ...  EARTHQUAKE SAFETY LOS ANGELES ÛÒ SAFETY FASTE...    NaN\n",
              "3259  10865     NaN  ...  Storm in RI worse than last hurricane. My city...    NaN\n",
              "3260  10868     NaN  ...  Green Line derailment in Chicago http://t.co/U...    NaN\n",
              "3261  10874     NaN  ...  MEG issues Hazardous Weather Outlook (HWO) htt...    NaN\n",
              "3262  10875     NaN  ...  #CityofCalgary has activated its Municipal Eme...    NaN\n",
              "\n",
              "[3263 rows x 5 columns]"
            ]
          },
          "metadata": {
            "tags": []
          },
          "execution_count": 22
        }
      ]
    },
    {
      "cell_type": "code",
      "metadata": {
        "id": "F203h_KpQnyg",
        "colab_type": "code",
        "outputId": "a6a9d150-95db-41bc-dd41-7a36b2d835c4",
        "colab": {
          "base_uri": "https://localhost:8080/",
          "height": 204
        }
      },
      "source": [
        "df.head()"
      ],
      "execution_count": 23,
      "outputs": [
        {
          "output_type": "execute_result",
          "data": {
            "text/html": [
              "<div>\n",
              "<style scoped>\n",
              "    .dataframe tbody tr th:only-of-type {\n",
              "        vertical-align: middle;\n",
              "    }\n",
              "\n",
              "    .dataframe tbody tr th {\n",
              "        vertical-align: top;\n",
              "    }\n",
              "\n",
              "    .dataframe thead th {\n",
              "        text-align: right;\n",
              "    }\n",
              "</style>\n",
              "<table border=\"1\" class=\"dataframe\">\n",
              "  <thead>\n",
              "    <tr style=\"text-align: right;\">\n",
              "      <th></th>\n",
              "      <th>id</th>\n",
              "      <th>keyword</th>\n",
              "      <th>location</th>\n",
              "      <th>text</th>\n",
              "      <th>target</th>\n",
              "    </tr>\n",
              "  </thead>\n",
              "  <tbody>\n",
              "    <tr>\n",
              "      <th>0</th>\n",
              "      <td>1</td>\n",
              "      <td>NaN</td>\n",
              "      <td>NaN</td>\n",
              "      <td>Our Deeds are the Reason of this #earthquake M...</td>\n",
              "      <td>1.0</td>\n",
              "    </tr>\n",
              "    <tr>\n",
              "      <th>1</th>\n",
              "      <td>4</td>\n",
              "      <td>NaN</td>\n",
              "      <td>NaN</td>\n",
              "      <td>Forest fire near La Ronge Sask. Canada</td>\n",
              "      <td>1.0</td>\n",
              "    </tr>\n",
              "    <tr>\n",
              "      <th>2</th>\n",
              "      <td>5</td>\n",
              "      <td>NaN</td>\n",
              "      <td>NaN</td>\n",
              "      <td>All residents asked to 'shelter in place' are ...</td>\n",
              "      <td>1.0</td>\n",
              "    </tr>\n",
              "    <tr>\n",
              "      <th>3</th>\n",
              "      <td>6</td>\n",
              "      <td>NaN</td>\n",
              "      <td>NaN</td>\n",
              "      <td>13,000 people receive #wildfires evacuation or...</td>\n",
              "      <td>1.0</td>\n",
              "    </tr>\n",
              "    <tr>\n",
              "      <th>4</th>\n",
              "      <td>7</td>\n",
              "      <td>NaN</td>\n",
              "      <td>NaN</td>\n",
              "      <td>Just got sent this photo from Ruby #Alaska as ...</td>\n",
              "      <td>1.0</td>\n",
              "    </tr>\n",
              "  </tbody>\n",
              "</table>\n",
              "</div>"
            ],
            "text/plain": [
              "   id keyword  ...                                               text target\n",
              "0   1     NaN  ...  Our Deeds are the Reason of this #earthquake M...    1.0\n",
              "1   4     NaN  ...             Forest fire near La Ronge Sask. Canada    1.0\n",
              "2   5     NaN  ...  All residents asked to 'shelter in place' are ...    1.0\n",
              "3   6     NaN  ...  13,000 people receive #wildfires evacuation or...    1.0\n",
              "4   7     NaN  ...  Just got sent this photo from Ruby #Alaska as ...    1.0\n",
              "\n",
              "[5 rows x 5 columns]"
            ]
          },
          "metadata": {
            "tags": []
          },
          "execution_count": 23
        }
      ]
    },
    {
      "cell_type": "code",
      "metadata": {
        "id": "kmA8i9JLRlG9",
        "colab_type": "code",
        "outputId": "8d2da61c-a313-4083-ea80-6fa679e1aecd",
        "colab": {
          "base_uri": "https://localhost:8080/",
          "height": 204
        }
      },
      "source": [
        "df.head()"
      ],
      "execution_count": 77,
      "outputs": [
        {
          "output_type": "execute_result",
          "data": {
            "text/html": [
              "<div>\n",
              "<style scoped>\n",
              "    .dataframe tbody tr th:only-of-type {\n",
              "        vertical-align: middle;\n",
              "    }\n",
              "\n",
              "    .dataframe tbody tr th {\n",
              "        vertical-align: top;\n",
              "    }\n",
              "\n",
              "    .dataframe thead th {\n",
              "        text-align: right;\n",
              "    }\n",
              "</style>\n",
              "<table border=\"1\" class=\"dataframe\">\n",
              "  <thead>\n",
              "    <tr style=\"text-align: right;\">\n",
              "      <th></th>\n",
              "      <th>id</th>\n",
              "      <th>keyword</th>\n",
              "      <th>location</th>\n",
              "      <th>text</th>\n",
              "      <th>target</th>\n",
              "    </tr>\n",
              "  </thead>\n",
              "  <tbody>\n",
              "    <tr>\n",
              "      <th>0</th>\n",
              "      <td>1</td>\n",
              "      <td>NaN</td>\n",
              "      <td>NaN</td>\n",
              "      <td>our deeds are the reason of this earthquake ma...</td>\n",
              "      <td>1.0</td>\n",
              "    </tr>\n",
              "    <tr>\n",
              "      <th>1</th>\n",
              "      <td>4</td>\n",
              "      <td>NaN</td>\n",
              "      <td>NaN</td>\n",
              "      <td>forest fire near la ronge sask canada</td>\n",
              "      <td>1.0</td>\n",
              "    </tr>\n",
              "    <tr>\n",
              "      <th>2</th>\n",
              "      <td>5</td>\n",
              "      <td>NaN</td>\n",
              "      <td>NaN</td>\n",
              "      <td>all residents asked to shelter in place are be...</td>\n",
              "      <td>1.0</td>\n",
              "    </tr>\n",
              "    <tr>\n",
              "      <th>3</th>\n",
              "      <td>6</td>\n",
              "      <td>NaN</td>\n",
              "      <td>NaN</td>\n",
              "      <td>13000 people receive wildfires evacuation orde...</td>\n",
              "      <td>1.0</td>\n",
              "    </tr>\n",
              "    <tr>\n",
              "      <th>4</th>\n",
              "      <td>7</td>\n",
              "      <td>NaN</td>\n",
              "      <td>NaN</td>\n",
              "      <td>just got sent this photo from ruby alaska as s...</td>\n",
              "      <td>1.0</td>\n",
              "    </tr>\n",
              "  </tbody>\n",
              "</table>\n",
              "</div>"
            ],
            "text/plain": [
              "   id keyword  ...                                               text target\n",
              "0   1     NaN  ...  our deeds are the reason of this earthquake ma...    1.0\n",
              "1   4     NaN  ...              forest fire near la ronge sask canada    1.0\n",
              "2   5     NaN  ...  all residents asked to shelter in place are be...    1.0\n",
              "3   6     NaN  ...  13000 people receive wildfires evacuation orde...    1.0\n",
              "4   7     NaN  ...  just got sent this photo from ruby alaska as s...    1.0\n",
              "\n",
              "[5 rows x 5 columns]"
            ]
          },
          "metadata": {
            "tags": []
          },
          "execution_count": 77
        }
      ]
    },
    {
      "cell_type": "code",
      "metadata": {
        "id": "IeMwlnGJz303",
        "colab_type": "code",
        "colab": {}
      },
      "source": [
        "import re"
      ],
      "execution_count": 0,
      "outputs": []
    },
    {
      "cell_type": "code",
      "metadata": {
        "id": "Ombv_1Eoz304",
        "colab_type": "code",
        "colab": {}
      },
      "source": [
        "def remove_URL(text):\n",
        "    url = re.compile(r'https?://\\S+|www\\.\\S+')\n",
        "    return url.sub(r'',text)"
      ],
      "execution_count": 0,
      "outputs": []
    },
    {
      "cell_type": "code",
      "metadata": {
        "id": "DCAYHOgUz305",
        "colab_type": "code",
        "colab": {}
      },
      "source": [
        "df['text']=df['text'].apply(lambda x : remove_URL(x))"
      ],
      "execution_count": 0,
      "outputs": []
    },
    {
      "cell_type": "code",
      "metadata": {
        "id": "QSrdpi7uz306",
        "colab_type": "code",
        "colab": {}
      },
      "source": [
        "def remove_html(text):\n",
        "    html=re.compile(r'<.*?>')\n",
        "    return html.sub(r'',text)"
      ],
      "execution_count": 0,
      "outputs": []
    },
    {
      "cell_type": "code",
      "metadata": {
        "id": "WEoSMKR0z307",
        "colab_type": "code",
        "colab": {}
      },
      "source": [
        "df['text']=df['text'].apply(lambda x : remove_html(x))"
      ],
      "execution_count": 0,
      "outputs": []
    },
    {
      "cell_type": "code",
      "metadata": {
        "id": "lBkGba6xz309",
        "colab_type": "code",
        "colab": {}
      },
      "source": [
        "import string\n",
        "\n",
        "def remove_punct(text):\n",
        "    table=str.maketrans('','',string.punctuation)\n",
        "    return text.translate(table)"
      ],
      "execution_count": 0,
      "outputs": []
    },
    {
      "cell_type": "code",
      "metadata": {
        "id": "630GMtXhS4fz",
        "colab_type": "code",
        "colab": {}
      },
      "source": [
        "df['text']=df['text'].apply(lambda x : remove_punct(x))"
      ],
      "execution_count": 0,
      "outputs": []
    },
    {
      "cell_type": "code",
      "metadata": {
        "id": "b9gQ1Emqz30_",
        "colab_type": "code",
        "outputId": "6021eee1-b581-40c0-9359-ff0497d226ba",
        "colab": {
          "base_uri": "https://localhost:8080/",
          "height": 204
        }
      },
      "source": [
        "df.head()"
      ],
      "execution_count": 85,
      "outputs": [
        {
          "output_type": "execute_result",
          "data": {
            "text/html": [
              "<div>\n",
              "<style scoped>\n",
              "    .dataframe tbody tr th:only-of-type {\n",
              "        vertical-align: middle;\n",
              "    }\n",
              "\n",
              "    .dataframe tbody tr th {\n",
              "        vertical-align: top;\n",
              "    }\n",
              "\n",
              "    .dataframe thead th {\n",
              "        text-align: right;\n",
              "    }\n",
              "</style>\n",
              "<table border=\"1\" class=\"dataframe\">\n",
              "  <thead>\n",
              "    <tr style=\"text-align: right;\">\n",
              "      <th></th>\n",
              "      <th>id</th>\n",
              "      <th>keyword</th>\n",
              "      <th>location</th>\n",
              "      <th>text</th>\n",
              "      <th>target</th>\n",
              "    </tr>\n",
              "  </thead>\n",
              "  <tbody>\n",
              "    <tr>\n",
              "      <th>0</th>\n",
              "      <td>1</td>\n",
              "      <td>NaN</td>\n",
              "      <td>NaN</td>\n",
              "      <td>our deeds are the reason of this earthquake ma...</td>\n",
              "      <td>1.0</td>\n",
              "    </tr>\n",
              "    <tr>\n",
              "      <th>1</th>\n",
              "      <td>4</td>\n",
              "      <td>NaN</td>\n",
              "      <td>NaN</td>\n",
              "      <td>forest fire near la ronge sask canada</td>\n",
              "      <td>1.0</td>\n",
              "    </tr>\n",
              "    <tr>\n",
              "      <th>2</th>\n",
              "      <td>5</td>\n",
              "      <td>NaN</td>\n",
              "      <td>NaN</td>\n",
              "      <td>all residents asked to shelter in place are be...</td>\n",
              "      <td>1.0</td>\n",
              "    </tr>\n",
              "    <tr>\n",
              "      <th>3</th>\n",
              "      <td>6</td>\n",
              "      <td>NaN</td>\n",
              "      <td>NaN</td>\n",
              "      <td>13000 people receive wildfires evacuation orde...</td>\n",
              "      <td>1.0</td>\n",
              "    </tr>\n",
              "    <tr>\n",
              "      <th>4</th>\n",
              "      <td>7</td>\n",
              "      <td>NaN</td>\n",
              "      <td>NaN</td>\n",
              "      <td>just got sent this photo from ruby alaska as s...</td>\n",
              "      <td>1.0</td>\n",
              "    </tr>\n",
              "  </tbody>\n",
              "</table>\n",
              "</div>"
            ],
            "text/plain": [
              "   id keyword  ...                                               text target\n",
              "0   1     NaN  ...  our deeds are the reason of this earthquake ma...    1.0\n",
              "1   4     NaN  ...              forest fire near la ronge sask canada    1.0\n",
              "2   5     NaN  ...  all residents asked to shelter in place are be...    1.0\n",
              "3   6     NaN  ...  13000 people receive wildfires evacuation orde...    1.0\n",
              "4   7     NaN  ...  just got sent this photo from ruby alaska as s...    1.0\n",
              "\n",
              "[5 rows x 5 columns]"
            ]
          },
          "metadata": {
            "tags": []
          },
          "execution_count": 85
        }
      ]
    },
    {
      "cell_type": "code",
      "metadata": {
        "id": "_FmBc5ycz31A",
        "colab_type": "code",
        "colab": {}
      },
      "source": [
        "def remove_emoji(text):\n",
        "    emoji_pattern = re.compile(\"[\"\n",
        "                           u\"\\U0001F600-\\U0001F64F\"  # emoticons\n",
        "                           u\"\\U0001F300-\\U0001F5FF\"  # symbols & pictographs\n",
        "                           u\"\\U0001F680-\\U0001F6FF\"  # transport & map symbols\n",
        "                           u\"\\U0001F1E0-\\U0001F1FF\"  # flags (iOS)\n",
        "                           u\"\\U00002702-\\U000027B0\"\n",
        "                           u\"\\U000024C2-\\U0001F251\"\n",
        "                           \"]+\", flags=re.UNICODE)\n",
        "    return emoji_pattern.sub(r'', text)"
      ],
      "execution_count": 0,
      "outputs": []
    },
    {
      "cell_type": "code",
      "metadata": {
        "id": "8kfpti-qTFPp",
        "colab_type": "code",
        "colab": {}
      },
      "source": [
        "df['text']=df['text'].apply(lambda x : remove_emoji(x))"
      ],
      "execution_count": 0,
      "outputs": []
    },
    {
      "cell_type": "markdown",
      "metadata": {
        "id": "dZ2lOEpDTDf7",
        "colab_type": "text"
      },
      "source": [
        ""
      ]
    },
    {
      "cell_type": "code",
      "metadata": {
        "id": "yVsAsRL88Aa9",
        "colab_type": "code",
        "colab": {}
      },
      "source": [
        "# Special characters\n",
        "def remove_special (text):\n",
        "  special_pattern=re.compile(r'\\x89Û_x89ÛÒ\\x89ÛÓ\\x89ÛÏWhen\\x89ÛÏlet\\x89Ûªs\\x89Û÷\\x89Ûª\\x89Û\\x9då_\\x89Û¢\\x89Û¢åÊåÊåÈå¨åÇåÀ')\n",
        "  return special_pattern.sub(r'',text)"
      ],
      "execution_count": 0,
      "outputs": []
    },
    {
      "cell_type": "code",
      "metadata": {
        "id": "HCWX3O4J8QZS",
        "colab_type": "code",
        "colab": {}
      },
      "source": [
        "df['text']=df['text'].apply(lambda x : remove_special(x))"
      ],
      "execution_count": 0,
      "outputs": []
    },
    {
      "cell_type": "code",
      "metadata": {
        "id": "yWdKkq5y73ne",
        "colab_type": "code",
        "colab": {}
      },
      "source": [
        "df['text']=df['text'].apply(lambda x : x.lower())"
      ],
      "execution_count": 0,
      "outputs": []
    },
    {
      "cell_type": "code",
      "metadata": {
        "id": "QVUnwj9473uj",
        "colab_type": "code",
        "outputId": "13960b66-eda7-4376-9954-6d9a653a53c5",
        "colab": {
          "base_uri": "https://localhost:8080/",
          "height": 359
        }
      },
      "source": [
        "df.head(10)"
      ],
      "execution_count": 91,
      "outputs": [
        {
          "output_type": "execute_result",
          "data": {
            "text/html": [
              "<div>\n",
              "<style scoped>\n",
              "    .dataframe tbody tr th:only-of-type {\n",
              "        vertical-align: middle;\n",
              "    }\n",
              "\n",
              "    .dataframe tbody tr th {\n",
              "        vertical-align: top;\n",
              "    }\n",
              "\n",
              "    .dataframe thead th {\n",
              "        text-align: right;\n",
              "    }\n",
              "</style>\n",
              "<table border=\"1\" class=\"dataframe\">\n",
              "  <thead>\n",
              "    <tr style=\"text-align: right;\">\n",
              "      <th></th>\n",
              "      <th>id</th>\n",
              "      <th>keyword</th>\n",
              "      <th>location</th>\n",
              "      <th>text</th>\n",
              "      <th>target</th>\n",
              "    </tr>\n",
              "  </thead>\n",
              "  <tbody>\n",
              "    <tr>\n",
              "      <th>0</th>\n",
              "      <td>1</td>\n",
              "      <td>NaN</td>\n",
              "      <td>NaN</td>\n",
              "      <td>our deeds are the reason of this earthquake ma...</td>\n",
              "      <td>1.0</td>\n",
              "    </tr>\n",
              "    <tr>\n",
              "      <th>1</th>\n",
              "      <td>4</td>\n",
              "      <td>NaN</td>\n",
              "      <td>NaN</td>\n",
              "      <td>forest fire near la ronge sask canada</td>\n",
              "      <td>1.0</td>\n",
              "    </tr>\n",
              "    <tr>\n",
              "      <th>2</th>\n",
              "      <td>5</td>\n",
              "      <td>NaN</td>\n",
              "      <td>NaN</td>\n",
              "      <td>all residents asked to shelter in place are be...</td>\n",
              "      <td>1.0</td>\n",
              "    </tr>\n",
              "    <tr>\n",
              "      <th>3</th>\n",
              "      <td>6</td>\n",
              "      <td>NaN</td>\n",
              "      <td>NaN</td>\n",
              "      <td>13000 people receive wildfires evacuation orde...</td>\n",
              "      <td>1.0</td>\n",
              "    </tr>\n",
              "    <tr>\n",
              "      <th>4</th>\n",
              "      <td>7</td>\n",
              "      <td>NaN</td>\n",
              "      <td>NaN</td>\n",
              "      <td>just got sent this photo from ruby alaska as s...</td>\n",
              "      <td>1.0</td>\n",
              "    </tr>\n",
              "    <tr>\n",
              "      <th>5</th>\n",
              "      <td>8</td>\n",
              "      <td>NaN</td>\n",
              "      <td>NaN</td>\n",
              "      <td>rockyfire update  california hwy 20 closed in ...</td>\n",
              "      <td>1.0</td>\n",
              "    </tr>\n",
              "    <tr>\n",
              "      <th>6</th>\n",
              "      <td>10</td>\n",
              "      <td>NaN</td>\n",
              "      <td>NaN</td>\n",
              "      <td>flood disaster heavy rain causes flash floodin...</td>\n",
              "      <td>1.0</td>\n",
              "    </tr>\n",
              "    <tr>\n",
              "      <th>7</th>\n",
              "      <td>13</td>\n",
              "      <td>NaN</td>\n",
              "      <td>NaN</td>\n",
              "      <td>im on top of the hill and i can see a fire in ...</td>\n",
              "      <td>1.0</td>\n",
              "    </tr>\n",
              "    <tr>\n",
              "      <th>8</th>\n",
              "      <td>14</td>\n",
              "      <td>NaN</td>\n",
              "      <td>NaN</td>\n",
              "      <td>theres an emergency evacuation happening now i...</td>\n",
              "      <td>1.0</td>\n",
              "    </tr>\n",
              "    <tr>\n",
              "      <th>9</th>\n",
              "      <td>15</td>\n",
              "      <td>NaN</td>\n",
              "      <td>NaN</td>\n",
              "      <td>im afraid that the tornado is coming to our area</td>\n",
              "      <td>1.0</td>\n",
              "    </tr>\n",
              "  </tbody>\n",
              "</table>\n",
              "</div>"
            ],
            "text/plain": [
              "   id keyword  ...                                               text target\n",
              "0   1     NaN  ...  our deeds are the reason of this earthquake ma...    1.0\n",
              "1   4     NaN  ...              forest fire near la ronge sask canada    1.0\n",
              "2   5     NaN  ...  all residents asked to shelter in place are be...    1.0\n",
              "3   6     NaN  ...  13000 people receive wildfires evacuation orde...    1.0\n",
              "4   7     NaN  ...  just got sent this photo from ruby alaska as s...    1.0\n",
              "5   8     NaN  ...  rockyfire update  california hwy 20 closed in ...    1.0\n",
              "6  10     NaN  ...  flood disaster heavy rain causes flash floodin...    1.0\n",
              "7  13     NaN  ...  im on top of the hill and i can see a fire in ...    1.0\n",
              "8  14     NaN  ...  theres an emergency evacuation happening now i...    1.0\n",
              "9  15     NaN  ...   im afraid that the tornado is coming to our area    1.0\n",
              "\n",
              "[10 rows x 5 columns]"
            ]
          },
          "metadata": {
            "tags": []
          },
          "execution_count": 91
        }
      ]
    },
    {
      "cell_type": "code",
      "metadata": {
        "id": "kBXblaul3w5m",
        "colab_type": "code",
        "colab": {}
      },
      "source": [
        "# sépare le dataset pour retrouver un train set et test set propre"
      ],
      "execution_count": 0,
      "outputs": []
    },
    {
      "cell_type": "code",
      "metadata": {
        "id": "eWr4be8iz31B",
        "colab_type": "code",
        "colab": {}
      },
      "source": [
        "data_train_clean=df[df.target.notna()]\n",
        "data_test_clean = df[df.target.isna()].drop(columns=\"target\")"
      ],
      "execution_count": 0,
      "outputs": []
    },
    {
      "cell_type": "code",
      "metadata": {
        "id": "qoxifwNvTPvT",
        "colab_type": "code",
        "outputId": "1d8055b7-a5a2-44fb-b2ed-93b6a43cf8d5",
        "colab": {
          "base_uri": "https://localhost:8080/",
          "height": 204
        }
      },
      "source": [
        "data_train_clean.head()"
      ],
      "execution_count": 94,
      "outputs": [
        {
          "output_type": "execute_result",
          "data": {
            "text/html": [
              "<div>\n",
              "<style scoped>\n",
              "    .dataframe tbody tr th:only-of-type {\n",
              "        vertical-align: middle;\n",
              "    }\n",
              "\n",
              "    .dataframe tbody tr th {\n",
              "        vertical-align: top;\n",
              "    }\n",
              "\n",
              "    .dataframe thead th {\n",
              "        text-align: right;\n",
              "    }\n",
              "</style>\n",
              "<table border=\"1\" class=\"dataframe\">\n",
              "  <thead>\n",
              "    <tr style=\"text-align: right;\">\n",
              "      <th></th>\n",
              "      <th>id</th>\n",
              "      <th>keyword</th>\n",
              "      <th>location</th>\n",
              "      <th>text</th>\n",
              "      <th>target</th>\n",
              "    </tr>\n",
              "  </thead>\n",
              "  <tbody>\n",
              "    <tr>\n",
              "      <th>0</th>\n",
              "      <td>1</td>\n",
              "      <td>NaN</td>\n",
              "      <td>NaN</td>\n",
              "      <td>our deeds are the reason of this earthquake ma...</td>\n",
              "      <td>1.0</td>\n",
              "    </tr>\n",
              "    <tr>\n",
              "      <th>1</th>\n",
              "      <td>4</td>\n",
              "      <td>NaN</td>\n",
              "      <td>NaN</td>\n",
              "      <td>forest fire near la ronge sask canada</td>\n",
              "      <td>1.0</td>\n",
              "    </tr>\n",
              "    <tr>\n",
              "      <th>2</th>\n",
              "      <td>5</td>\n",
              "      <td>NaN</td>\n",
              "      <td>NaN</td>\n",
              "      <td>all residents asked to shelter in place are be...</td>\n",
              "      <td>1.0</td>\n",
              "    </tr>\n",
              "    <tr>\n",
              "      <th>3</th>\n",
              "      <td>6</td>\n",
              "      <td>NaN</td>\n",
              "      <td>NaN</td>\n",
              "      <td>13000 people receive wildfires evacuation orde...</td>\n",
              "      <td>1.0</td>\n",
              "    </tr>\n",
              "    <tr>\n",
              "      <th>4</th>\n",
              "      <td>7</td>\n",
              "      <td>NaN</td>\n",
              "      <td>NaN</td>\n",
              "      <td>just got sent this photo from ruby alaska as s...</td>\n",
              "      <td>1.0</td>\n",
              "    </tr>\n",
              "  </tbody>\n",
              "</table>\n",
              "</div>"
            ],
            "text/plain": [
              "   id keyword  ...                                               text target\n",
              "0   1     NaN  ...  our deeds are the reason of this earthquake ma...    1.0\n",
              "1   4     NaN  ...              forest fire near la ronge sask canada    1.0\n",
              "2   5     NaN  ...  all residents asked to shelter in place are be...    1.0\n",
              "3   6     NaN  ...  13000 people receive wildfires evacuation orde...    1.0\n",
              "4   7     NaN  ...  just got sent this photo from ruby alaska as s...    1.0\n",
              "\n",
              "[5 rows x 5 columns]"
            ]
          },
          "metadata": {
            "tags": []
          },
          "execution_count": 94
        }
      ]
    },
    {
      "cell_type": "code",
      "metadata": {
        "id": "SxxcAGBXTTk2",
        "colab_type": "code",
        "outputId": "0961425e-c447-4fc0-a911-4cfa0bcd3c17",
        "colab": {
          "base_uri": "https://localhost:8080/",
          "height": 139
        }
      },
      "source": [
        "data_train_clean[\"target\"]=data_train_clean[\"target\"].apply(lambda x: int(x))"
      ],
      "execution_count": 95,
      "outputs": [
        {
          "output_type": "stream",
          "text": [
            "/usr/local/lib/python3.6/dist-packages/ipykernel_launcher.py:1: SettingWithCopyWarning: \n",
            "A value is trying to be set on a copy of a slice from a DataFrame.\n",
            "Try using .loc[row_indexer,col_indexer] = value instead\n",
            "\n",
            "See the caveats in the documentation: https://pandas.pydata.org/pandas-docs/stable/user_guide/indexing.html#returning-a-view-versus-a-copy\n",
            "  \"\"\"Entry point for launching an IPython kernel.\n"
          ],
          "name": "stderr"
        }
      ]
    },
    {
      "cell_type": "code",
      "metadata": {
        "id": "tG4jQHhL9xjI",
        "colab_type": "code",
        "outputId": "e9de21a1-0e06-41d9-921d-79ac25bc4d19",
        "colab": {
          "base_uri": "https://localhost:8080/",
          "height": 34
        }
      },
      "source": [
        "data_train.shape"
      ],
      "execution_count": 96,
      "outputs": [
        {
          "output_type": "execute_result",
          "data": {
            "text/plain": [
              "(7503, 5)"
            ]
          },
          "metadata": {
            "tags": []
          },
          "execution_count": 96
        }
      ]
    },
    {
      "cell_type": "code",
      "metadata": {
        "id": "-rQe6Rid9xpb",
        "colab_type": "code",
        "outputId": "e8287355-bde5-4730-fdb2-91ef8f068e9b",
        "colab": {
          "base_uri": "https://localhost:8080/",
          "height": 34
        }
      },
      "source": [
        "data_train_clean.shape"
      ],
      "execution_count": 97,
      "outputs": [
        {
          "output_type": "execute_result",
          "data": {
            "text/plain": [
              "(7503, 5)"
            ]
          },
          "metadata": {
            "tags": []
          },
          "execution_count": 97
        }
      ]
    },
    {
      "cell_type": "code",
      "metadata": {
        "id": "pGiryvoC9xvw",
        "colab_type": "code",
        "outputId": "7c7df54e-6879-457f-aa61-39acafc46f93",
        "colab": {
          "base_uri": "https://localhost:8080/",
          "height": 34
        }
      },
      "source": [
        "data_test.shape"
      ],
      "execution_count": 98,
      "outputs": [
        {
          "output_type": "execute_result",
          "data": {
            "text/plain": [
              "(3263, 4)"
            ]
          },
          "metadata": {
            "tags": []
          },
          "execution_count": 98
        }
      ]
    },
    {
      "cell_type": "code",
      "metadata": {
        "id": "neoYGVQ39x2E",
        "colab_type": "code",
        "outputId": "316abf78-94b3-40b6-9836-1362b5988f81",
        "colab": {
          "base_uri": "https://localhost:8080/",
          "height": 34
        }
      },
      "source": [
        "data_test_clean.shape"
      ],
      "execution_count": 99,
      "outputs": [
        {
          "output_type": "execute_result",
          "data": {
            "text/plain": [
              "(3263, 4)"
            ]
          },
          "metadata": {
            "tags": []
          },
          "execution_count": 99
        }
      ]
    },
    {
      "cell_type": "code",
      "metadata": {
        "id": "FNmGp7Ds9x8i",
        "colab_type": "code",
        "outputId": "8b43f438-7e04-4497-af92-2035d054984c",
        "colab": {
          "base_uri": "https://localhost:8080/",
          "height": 204
        }
      },
      "source": [
        "data_test_clean.head()"
      ],
      "execution_count": 100,
      "outputs": [
        {
          "output_type": "execute_result",
          "data": {
            "text/html": [
              "<div>\n",
              "<style scoped>\n",
              "    .dataframe tbody tr th:only-of-type {\n",
              "        vertical-align: middle;\n",
              "    }\n",
              "\n",
              "    .dataframe tbody tr th {\n",
              "        vertical-align: top;\n",
              "    }\n",
              "\n",
              "    .dataframe thead th {\n",
              "        text-align: right;\n",
              "    }\n",
              "</style>\n",
              "<table border=\"1\" class=\"dataframe\">\n",
              "  <thead>\n",
              "    <tr style=\"text-align: right;\">\n",
              "      <th></th>\n",
              "      <th>id</th>\n",
              "      <th>keyword</th>\n",
              "      <th>location</th>\n",
              "      <th>text</th>\n",
              "    </tr>\n",
              "  </thead>\n",
              "  <tbody>\n",
              "    <tr>\n",
              "      <th>0</th>\n",
              "      <td>0</td>\n",
              "      <td>NaN</td>\n",
              "      <td>NaN</td>\n",
              "      <td>just happened a terrible car crash</td>\n",
              "    </tr>\n",
              "    <tr>\n",
              "      <th>1</th>\n",
              "      <td>2</td>\n",
              "      <td>NaN</td>\n",
              "      <td>NaN</td>\n",
              "      <td>heard about earthquake is different cities sta...</td>\n",
              "    </tr>\n",
              "    <tr>\n",
              "      <th>2</th>\n",
              "      <td>3</td>\n",
              "      <td>NaN</td>\n",
              "      <td>NaN</td>\n",
              "      <td>there is a forest fire at spot pond geese are ...</td>\n",
              "    </tr>\n",
              "    <tr>\n",
              "      <th>3</th>\n",
              "      <td>9</td>\n",
              "      <td>NaN</td>\n",
              "      <td>NaN</td>\n",
              "      <td>apocalypse lighting spokane wildfires</td>\n",
              "    </tr>\n",
              "    <tr>\n",
              "      <th>4</th>\n",
              "      <td>11</td>\n",
              "      <td>NaN</td>\n",
              "      <td>NaN</td>\n",
              "      <td>typhoon soudelor kills 28 in china and taiwan</td>\n",
              "    </tr>\n",
              "  </tbody>\n",
              "</table>\n",
              "</div>"
            ],
            "text/plain": [
              "   id keyword location                                               text\n",
              "0   0     NaN      NaN                 just happened a terrible car crash\n",
              "1   2     NaN      NaN  heard about earthquake is different cities sta...\n",
              "2   3     NaN      NaN  there is a forest fire at spot pond geese are ...\n",
              "3   9     NaN      NaN              apocalypse lighting spokane wildfires\n",
              "4  11     NaN      NaN      typhoon soudelor kills 28 in china and taiwan"
            ]
          },
          "metadata": {
            "tags": []
          },
          "execution_count": 100
        }
      ]
    },
    {
      "cell_type": "code",
      "metadata": {
        "id": "GEJkBASd9yOa",
        "colab_type": "code",
        "outputId": "b077432a-bcc5-4615-e901-b3575241198e",
        "colab": {
          "base_uri": "https://localhost:8080/",
          "height": 632
        }
      },
      "source": [
        "# Installation TensorFlow\n",
        "!pip install --upgrade tensorflow"
      ],
      "execution_count": 101,
      "outputs": [
        {
          "output_type": "stream",
          "text": [
            "Requirement already up-to-date: tensorflow in /usr/local/lib/python3.6/dist-packages (2.2.0rc3)\n",
            "Requirement already satisfied, skipping upgrade: tensorboard<2.3.0,>=2.2.0 in /usr/local/lib/python3.6/dist-packages (from tensorflow) (2.2.1)\n",
            "Requirement already satisfied, skipping upgrade: scipy==1.4.1; python_version >= \"3\" in /usr/local/lib/python3.6/dist-packages (from tensorflow) (1.4.1)\n",
            "Requirement already satisfied, skipping upgrade: wheel>=0.26; python_version >= \"3\" in /usr/local/lib/python3.6/dist-packages (from tensorflow) (0.34.2)\n",
            "Requirement already satisfied, skipping upgrade: grpcio>=1.8.6 in /usr/local/lib/python3.6/dist-packages (from tensorflow) (1.28.1)\n",
            "Requirement already satisfied, skipping upgrade: h5py<2.11.0,>=2.10.0 in /usr/local/lib/python3.6/dist-packages (from tensorflow) (2.10.0)\n",
            "Requirement already satisfied, skipping upgrade: termcolor>=1.1.0 in /usr/local/lib/python3.6/dist-packages (from tensorflow) (1.1.0)\n",
            "Requirement already satisfied, skipping upgrade: google-pasta>=0.1.8 in /usr/local/lib/python3.6/dist-packages (from tensorflow) (0.2.0)\n",
            "Requirement already satisfied, skipping upgrade: astunparse==1.6.3 in /usr/local/lib/python3.6/dist-packages (from tensorflow) (1.6.3)\n",
            "Requirement already satisfied, skipping upgrade: gast==0.3.3 in /usr/local/lib/python3.6/dist-packages (from tensorflow) (0.3.3)\n",
            "Requirement already satisfied, skipping upgrade: protobuf>=3.8.0 in /usr/local/lib/python3.6/dist-packages (from tensorflow) (3.10.0)\n",
            "Requirement already satisfied, skipping upgrade: keras-preprocessing>=1.1.0 in /usr/local/lib/python3.6/dist-packages (from tensorflow) (1.1.0)\n",
            "Requirement already satisfied, skipping upgrade: numpy<2.0,>=1.16.0 in /usr/local/lib/python3.6/dist-packages (from tensorflow) (1.18.3)\n",
            "Requirement already satisfied, skipping upgrade: tensorflow-estimator<2.3.0,>=2.2.0rc0 in /usr/local/lib/python3.6/dist-packages (from tensorflow) (2.2.0)\n",
            "Requirement already satisfied, skipping upgrade: wrapt>=1.11.1 in /usr/local/lib/python3.6/dist-packages (from tensorflow) (1.12.1)\n",
            "Requirement already satisfied, skipping upgrade: opt-einsum>=2.3.2 in /usr/local/lib/python3.6/dist-packages (from tensorflow) (3.2.1)\n",
            "Requirement already satisfied, skipping upgrade: absl-py>=0.7.0 in /usr/local/lib/python3.6/dist-packages (from tensorflow) (0.9.0)\n",
            "Requirement already satisfied, skipping upgrade: six>=1.12.0 in /usr/local/lib/python3.6/dist-packages (from tensorflow) (1.12.0)\n",
            "Requirement already satisfied, skipping upgrade: google-auth-oauthlib<0.5,>=0.4.1 in /usr/local/lib/python3.6/dist-packages (from tensorboard<2.3.0,>=2.2.0->tensorflow) (0.4.1)\n",
            "Requirement already satisfied, skipping upgrade: setuptools>=41.0.0 in /usr/local/lib/python3.6/dist-packages (from tensorboard<2.3.0,>=2.2.0->tensorflow) (46.1.3)\n",
            "Requirement already satisfied, skipping upgrade: requests<3,>=2.21.0 in /usr/local/lib/python3.6/dist-packages (from tensorboard<2.3.0,>=2.2.0->tensorflow) (2.21.0)\n",
            "Requirement already satisfied, skipping upgrade: tensorboard-plugin-wit>=1.6.0 in /usr/local/lib/python3.6/dist-packages (from tensorboard<2.3.0,>=2.2.0->tensorflow) (1.6.0.post3)\n",
            "Requirement already satisfied, skipping upgrade: markdown>=2.6.8 in /usr/local/lib/python3.6/dist-packages (from tensorboard<2.3.0,>=2.2.0->tensorflow) (3.2.1)\n",
            "Requirement already satisfied, skipping upgrade: werkzeug>=0.11.15 in /usr/local/lib/python3.6/dist-packages (from tensorboard<2.3.0,>=2.2.0->tensorflow) (1.0.1)\n",
            "Requirement already satisfied, skipping upgrade: google-auth<2,>=1.6.3 in /usr/local/lib/python3.6/dist-packages (from tensorboard<2.3.0,>=2.2.0->tensorflow) (1.7.2)\n",
            "Requirement already satisfied, skipping upgrade: requests-oauthlib>=0.7.0 in /usr/local/lib/python3.6/dist-packages (from google-auth-oauthlib<0.5,>=0.4.1->tensorboard<2.3.0,>=2.2.0->tensorflow) (1.3.0)\n",
            "Requirement already satisfied, skipping upgrade: urllib3<1.25,>=1.21.1 in /usr/local/lib/python3.6/dist-packages (from requests<3,>=2.21.0->tensorboard<2.3.0,>=2.2.0->tensorflow) (1.24.3)\n",
            "Requirement already satisfied, skipping upgrade: chardet<3.1.0,>=3.0.2 in /usr/local/lib/python3.6/dist-packages (from requests<3,>=2.21.0->tensorboard<2.3.0,>=2.2.0->tensorflow) (3.0.4)\n",
            "Requirement already satisfied, skipping upgrade: idna<2.9,>=2.5 in /usr/local/lib/python3.6/dist-packages (from requests<3,>=2.21.0->tensorboard<2.3.0,>=2.2.0->tensorflow) (2.8)\n",
            "Requirement already satisfied, skipping upgrade: certifi>=2017.4.17 in /usr/local/lib/python3.6/dist-packages (from requests<3,>=2.21.0->tensorboard<2.3.0,>=2.2.0->tensorflow) (2020.4.5.1)\n",
            "Requirement already satisfied, skipping upgrade: pyasn1-modules>=0.2.1 in /usr/local/lib/python3.6/dist-packages (from google-auth<2,>=1.6.3->tensorboard<2.3.0,>=2.2.0->tensorflow) (0.2.8)\n",
            "Requirement already satisfied, skipping upgrade: cachetools<3.2,>=2.0.0 in /usr/local/lib/python3.6/dist-packages (from google-auth<2,>=1.6.3->tensorboard<2.3.0,>=2.2.0->tensorflow) (3.1.1)\n",
            "Requirement already satisfied, skipping upgrade: rsa<4.1,>=3.1.4 in /usr/local/lib/python3.6/dist-packages (from google-auth<2,>=1.6.3->tensorboard<2.3.0,>=2.2.0->tensorflow) (4.0)\n",
            "Requirement already satisfied, skipping upgrade: oauthlib>=3.0.0 in /usr/local/lib/python3.6/dist-packages (from requests-oauthlib>=0.7.0->google-auth-oauthlib<0.5,>=0.4.1->tensorboard<2.3.0,>=2.2.0->tensorflow) (3.1.0)\n",
            "Requirement already satisfied, skipping upgrade: pyasn1<0.5.0,>=0.4.6 in /usr/local/lib/python3.6/dist-packages (from pyasn1-modules>=0.2.1->google-auth<2,>=1.6.3->tensorboard<2.3.0,>=2.2.0->tensorflow) (0.4.8)\n"
          ],
          "name": "stdout"
        }
      ]
    },
    {
      "cell_type": "code",
      "metadata": {
        "id": "2l030gadFVt7",
        "colab_type": "code",
        "colab": {}
      },
      "source": [
        "import tensorflow as tf \n",
        "import tensorflow_datasets as tfds"
      ],
      "execution_count": 0,
      "outputs": []
    },
    {
      "cell_type": "code",
      "metadata": {
        "id": "wdIhyG19CMCP",
        "colab_type": "code",
        "colab": {}
      },
      "source": [
        "# Création d'un tf dataset à partir de pandas \n",
        "tf_ds = tf.data.Dataset.from_tensor_slices((data_train_clean[\"text\"].values, data_train_clean[\"target\"].values))"
      ],
      "execution_count": 0,
      "outputs": []
    },
    {
      "cell_type": "code",
      "metadata": {
        "id": "nx2lgMN1FLrF",
        "colab_type": "code",
        "outputId": "b1745fd4-d144-432e-d328-7b7022fabd04",
        "colab": {
          "base_uri": "https://localhost:8080/",
          "height": 54
        }
      },
      "source": [
        "# Regardons un exemple \n",
        "for text, target in tf_ds.take(1):\n",
        "  print(text, target)\n",
        "  "
      ],
      "execution_count": 104,
      "outputs": [
        {
          "output_type": "stream",
          "text": [
            "tf.Tensor(b'our deeds are the reason of this earthquake may allah forgive us all', shape=(), dtype=string) tf.Tensor(1, shape=(), dtype=int64)\n"
          ],
          "name": "stdout"
        }
      ]
    },
    {
      "cell_type": "code",
      "metadata": {
        "id": "u2vFFCPBFke4",
        "colab_type": "code",
        "colab": {}
      },
      "source": [
        "# Shuffle le dataset \n",
        "tf_ds = tf_ds.shuffle(10000)"
      ],
      "execution_count": 0,
      "outputs": []
    },
    {
      "cell_type": "code",
      "metadata": {
        "id": "of2CQTH5Fvvd",
        "colab_type": "code",
        "outputId": "d98d63bb-3c1c-4857-9847-c5b16c41735d",
        "colab": {
          "base_uri": "https://localhost:8080/",
          "height": 428
        }
      },
      "source": [
        "!python -m spacy download en_core_web_md"
      ],
      "execution_count": 106,
      "outputs": [
        {
          "output_type": "stream",
          "text": [
            "Requirement already satisfied: en_core_web_md==2.2.5 from https://github.com/explosion/spacy-models/releases/download/en_core_web_md-2.2.5/en_core_web_md-2.2.5.tar.gz#egg=en_core_web_md==2.2.5 in /usr/local/lib/python3.6/dist-packages (2.2.5)\n",
            "Requirement already satisfied: spacy>=2.2.2 in /usr/local/lib/python3.6/dist-packages (from en_core_web_md==2.2.5) (2.2.4)\n",
            "Requirement already satisfied: catalogue<1.1.0,>=0.0.7 in /usr/local/lib/python3.6/dist-packages (from spacy>=2.2.2->en_core_web_md==2.2.5) (1.0.0)\n",
            "Requirement already satisfied: preshed<3.1.0,>=3.0.2 in /usr/local/lib/python3.6/dist-packages (from spacy>=2.2.2->en_core_web_md==2.2.5) (3.0.2)\n",
            "Requirement already satisfied: srsly<1.1.0,>=1.0.2 in /usr/local/lib/python3.6/dist-packages (from spacy>=2.2.2->en_core_web_md==2.2.5) (1.0.2)\n",
            "Requirement already satisfied: thinc==7.4.0 in /usr/local/lib/python3.6/dist-packages (from spacy>=2.2.2->en_core_web_md==2.2.5) (7.4.0)\n",
            "Requirement already satisfied: cymem<2.1.0,>=2.0.2 in /usr/local/lib/python3.6/dist-packages (from spacy>=2.2.2->en_core_web_md==2.2.5) (2.0.3)\n",
            "Requirement already satisfied: numpy>=1.15.0 in /usr/local/lib/python3.6/dist-packages (from spacy>=2.2.2->en_core_web_md==2.2.5) (1.18.3)\n",
            "Requirement already satisfied: tqdm<5.0.0,>=4.38.0 in /usr/local/lib/python3.6/dist-packages (from spacy>=2.2.2->en_core_web_md==2.2.5) (4.38.0)\n",
            "Requirement already satisfied: blis<0.5.0,>=0.4.0 in /usr/local/lib/python3.6/dist-packages (from spacy>=2.2.2->en_core_web_md==2.2.5) (0.4.1)\n",
            "Requirement already satisfied: wasabi<1.1.0,>=0.4.0 in /usr/local/lib/python3.6/dist-packages (from spacy>=2.2.2->en_core_web_md==2.2.5) (0.6.0)\n",
            "Requirement already satisfied: setuptools in /usr/local/lib/python3.6/dist-packages (from spacy>=2.2.2->en_core_web_md==2.2.5) (46.1.3)\n",
            "Requirement already satisfied: plac<1.2.0,>=0.9.6 in /usr/local/lib/python3.6/dist-packages (from spacy>=2.2.2->en_core_web_md==2.2.5) (1.1.3)\n",
            "Requirement already satisfied: murmurhash<1.1.0,>=0.28.0 in /usr/local/lib/python3.6/dist-packages (from spacy>=2.2.2->en_core_web_md==2.2.5) (1.0.2)\n",
            "Requirement already satisfied: requests<3.0.0,>=2.13.0 in /usr/local/lib/python3.6/dist-packages (from spacy>=2.2.2->en_core_web_md==2.2.5) (2.21.0)\n",
            "Requirement already satisfied: importlib-metadata>=0.20; python_version < \"3.8\" in /usr/local/lib/python3.6/dist-packages (from catalogue<1.1.0,>=0.0.7->spacy>=2.2.2->en_core_web_md==2.2.5) (1.6.0)\n",
            "Requirement already satisfied: idna<2.9,>=2.5 in /usr/local/lib/python3.6/dist-packages (from requests<3.0.0,>=2.13.0->spacy>=2.2.2->en_core_web_md==2.2.5) (2.8)\n",
            "Requirement already satisfied: chardet<3.1.0,>=3.0.2 in /usr/local/lib/python3.6/dist-packages (from requests<3.0.0,>=2.13.0->spacy>=2.2.2->en_core_web_md==2.2.5) (3.0.4)\n",
            "Requirement already satisfied: certifi>=2017.4.17 in /usr/local/lib/python3.6/dist-packages (from requests<3.0.0,>=2.13.0->spacy>=2.2.2->en_core_web_md==2.2.5) (2020.4.5.1)\n",
            "Requirement already satisfied: urllib3<1.25,>=1.21.1 in /usr/local/lib/python3.6/dist-packages (from requests<3.0.0,>=2.13.0->spacy>=2.2.2->en_core_web_md==2.2.5) (1.24.3)\n",
            "Requirement already satisfied: zipp>=0.5 in /usr/local/lib/python3.6/dist-packages (from importlib-metadata>=0.20; python_version < \"3.8\"->catalogue<1.1.0,>=0.0.7->spacy>=2.2.2->en_core_web_md==2.2.5) (3.1.0)\n",
            "\u001b[38;5;2m✔ Download and installation successful\u001b[0m\n",
            "You can now load the model via spacy.load('en_core_web_md')\n"
          ],
          "name": "stdout"
        }
      ]
    },
    {
      "cell_type": "code",
      "metadata": {
        "id": "5P21KwesF3x_",
        "colab_type": "code",
        "colab": {}
      },
      "source": [
        "# Import de la langue\n",
        "import en_core_web_md\n",
        "nlp = en_core_web_md.load()"
      ],
      "execution_count": 0,
      "outputs": []
    },
    {
      "cell_type": "code",
      "metadata": {
        "id": "SA9kOBMJGmar",
        "colab_type": "code",
        "colab": {}
      },
      "source": [
        "# Import Stop words \n",
        "from spacy.lang.en.stop_words import STOP_WORDS"
      ],
      "execution_count": 0,
      "outputs": []
    },
    {
      "cell_type": "code",
      "metadata": {
        "id": "dPXU2NqTGsiO",
        "colab_type": "code",
        "colab": {}
      },
      "source": [
        "#corpus dans la dataset de départ, mais sous forme d'une string\n",
        "corpus = \" \".join(data_train_clean[\"text\"].to_list())\n"
      ],
      "execution_count": 0,
      "outputs": []
    },
    {
      "cell_type": "code",
      "metadata": {
        "id": "kU-ELFMrH2va",
        "colab_type": "code",
        "outputId": "dd0af18b-ce7d-41ef-8e6c-7fd45e1590e1",
        "colab": {
          "base_uri": "https://localhost:8080/",
          "height": 34
        }
      },
      "source": [
        "print( \"Il y a {} mots dans l'ensemble des tweets\".format(len(corpus)))"
      ],
      "execution_count": 110,
      "outputs": [
        {
          "output_type": "stream",
          "text": [
            "Il y a 632950 mots dans l'ensemble des tweets\n"
          ],
          "name": "stdout"
        }
      ]
    },
    {
      "cell_type": "code",
      "metadata": {
        "id": "OCPZmrChH9ox",
        "colab_type": "code",
        "outputId": "6fd7114e-d8cc-4ffc-cdbb-665962534fd5",
        "colab": {
          "base_uri": "https://localhost:8080/",
          "height": 51
        }
      },
      "source": [
        "#fixe taille de nlp.max_length et charge le corpus de texte\n",
        "\n",
        "%%time\n",
        "import time\n",
        "nlp.max_length = len(corpus)\n",
        "doc = nlp(corpus)"
      ],
      "execution_count": 111,
      "outputs": [
        {
          "output_type": "stream",
          "text": [
            "CPU times: user 13 s, sys: 661 ms, total: 13.7 s\n",
            "Wall time: 13.7 s\n"
          ],
          "name": "stdout"
        }
      ]
    },
    {
      "cell_type": "code",
      "metadata": {
        "id": "ruEgtmfyIGnM",
        "colab_type": "code",
        "outputId": "8fc9d4bf-5cc6-4961-89f7-52decb07bf54",
        "colab": {
          "base_uri": "https://localhost:8080/",
          "height": 236
        }
      },
      "source": [
        "from wordcloud import WordCloud\n",
        "import matplotlib.pyplot as plt\n",
        "wd = WordCloud(stopwords=STOP_WORDS)\n",
        "cloud = wd.generate(doc.text)\n",
        "plt.imshow(cloud)"
      ],
      "execution_count": 112,
      "outputs": [
        {
          "output_type": "execute_result",
          "data": {
            "text/plain": [
              "<matplotlib.image.AxesImage at 0x7f16022b2be0>"
            ]
          },
          "metadata": {
            "tags": []
          },
          "execution_count": 112
        },
        {
          "output_type": "display_data",
          "data": {
            "image/png": "[encoded data removed]",
            "text/plain": [
              "<Figure size 432x288 with 1 Axes>"
            ]
          },
          "metadata": {
            "tags": [],
            "needs_background": "light"
          }
        }
      ]
    },
    {
      "cell_type": "code",
      "metadata": {
        "id": "oFQIkPJeIkUR",
        "colab_type": "code",
        "outputId": "83dae2a3-7a81-4605-9f57-da42504eab42",
        "colab": {
          "base_uri": "https://localhost:8080/",
          "height": 68
        }
      },
      "source": [
        "# liste des tokens uniques lemmatisé, et en retirant les stop_words\n",
        "%%time\n",
        "tokens = [token.lemma_ for token in doc if token.text not in STOP_WORDS]\n",
        "vocabulary_set= set(tokens)\n",
        "vocab_size = len(vocabulary_set)\n",
        "print ( \"Il y a {} mots différents dans l'ensemble des tweets\".format(vocab_size))"
      ],
      "execution_count": 113,
      "outputs": [
        {
          "output_type": "stream",
          "text": [
            "Il y a 15793 mots différents dans l'ensemble des tweets\n",
            "CPU times: user 165 ms, sys: 0 ns, total: 165 ms\n",
            "Wall time: 167 ms\n"
          ],
          "name": "stdout"
        }
      ]
    },
    {
      "cell_type": "code",
      "metadata": {
        "id": "MLuPBugJKGPW",
        "colab_type": "code",
        "outputId": "b9df8714-baeb-4cc7-f0bd-22eb2a806bd7",
        "colab": {
          "base_uri": "https://localhost:8080/",
          "height": 1000
        }
      },
      "source": [
        "vocabulary_set"
      ],
      "execution_count": 114,
      "outputs": [
        {
          "output_type": "execute_result",
          "data": {
            "text/plain": [
              "{'az',\n",
              " 'cspanwj',\n",
              " 'nugget',\n",
              " 'emo',\n",
              " 'palestinian',\n",
              " 'huffpostrelig',\n",
              " 'lasvegaslocally',\n",
              " 'cut',\n",
              " 'ieee',\n",
              " 'wimbledon',\n",
              " 'flex',\n",
              " 'jail',\n",
              " 'misdirection',\n",
              " 'vimeo',\n",
              " 'proliferation',\n",
              " 'alska',\n",
              " 'paramedic',\n",
              " 'robbie',\n",
              " 'necn',\n",
              " 'telegraph',\n",
              " 'franta',\n",
              " 'massive',\n",
              " 'ars',\n",
              " 'frequent',\n",
              " 'dominicana',\n",
              " 'sprain',\n",
              " 'soaker',\n",
              " 'generalnews',\n",
              " 'hopeinchrist',\n",
              " 'stylish',\n",
              " 'nineyearold',\n",
              " 'saturate',\n",
              " 'briefing',\n",
              " 'govegan',\n",
              " 'seismicsoftware',\n",
              " '20homers',\n",
              " 'steep',\n",
              " 'itsdanie',\n",
              " 'dubbo',\n",
              " 'dimension',\n",
              " 'suho',\n",
              " 'ur',\n",
              " 'teenfiction',\n",
              " '\\x89ûïa',\n",
              " 'spså¨',\n",
              " 'legal',\n",
              " 'bakeofffriends',\n",
              " 'shaabi',\n",
              " 'ridiculously',\n",
              " 'antony',\n",
              " 'boise',\n",
              " 'mineenjoyfire',\n",
              " 'january',\n",
              " 'cable',\n",
              " 'decomposition',\n",
              " 'uh',\n",
              " 'western',\n",
              " 'worldwide',\n",
              " 'lubbock',\n",
              " 'this\\x89û',\n",
              " 'yosemite',\n",
              " 'daves',\n",
              " 'antiblight',\n",
              " 'marriedfoxysiren',\n",
              " '250k',\n",
              " 'suspect',\n",
              " 'trickshot',\n",
              " 'mv',\n",
              " 'newlywed',\n",
              " 'remembrance',\n",
              " 'office\\x89ûªs',\n",
              " 'wmata',\n",
              " 'wannabe',\n",
              " 'mi7',\n",
              " 'lisavanderpump',\n",
              " 'wave',\n",
              " 'lgm',\n",
              " 'petebest',\n",
              " 'tgirl',\n",
              " '311',\n",
              " 'indiansfor',\n",
              " 'whine',\n",
              " 'ykelquiban',\n",
              " 'boltåêcyclone',\n",
              " 'milne',\n",
              " 'lisp',\n",
              " 'ambleside',\n",
              " 'bluejays',\n",
              " 'ancop',\n",
              " 'ameribag',\n",
              " 'louis',\n",
              " 'fondness',\n",
              " 'sinjar',\n",
              " 'vanessa',\n",
              " 'kill',\n",
              " 'rick',\n",
              " '\\x89ûïwhen',\n",
              " 'coldmpress',\n",
              " 'elementary',\n",
              " 'hightech',\n",
              " 'tora',\n",
              " 'associated',\n",
              " 'gunfight',\n",
              " 'm38',\n",
              " 'continue',\n",
              " 'porn',\n",
              " 'semi',\n",
              " 'obviously',\n",
              " 'back',\n",
              " 'keratin',\n",
              " 'ariabrisard',\n",
              " '18w',\n",
              " '1st',\n",
              " 'actress',\n",
              " 'anger',\n",
              " 'r',\n",
              " 'hype',\n",
              " 'supreme',\n",
              " 'expansion',\n",
              " 'begforcum',\n",
              " 'change',\n",
              " 'ruling',\n",
              " 'starbuckscully',\n",
              " 'gulag',\n",
              " 'mattkroschel',\n",
              " 'racist',\n",
              " 'musik',\n",
              " 'triumph',\n",
              " '184',\n",
              " 'comdev',\n",
              " 'repair',\n",
              " 'despicable',\n",
              " 'vibez',\n",
              " 'goodluck',\n",
              " 'nowplaye',\n",
              " 'especially',\n",
              " 'josephus',\n",
              " 'cqnow',\n",
              " 'girardeau',\n",
              " 'recognize',\n",
              " 'f250',\n",
              " 'nia',\n",
              " 'transgenerational',\n",
              " 'supposedly',\n",
              " 'jennifer',\n",
              " '228',\n",
              " 'triciaoneillphoto',\n",
              " 'cech',\n",
              " 'onthisday',\n",
              " 'dr',\n",
              " 'boy',\n",
              " 'remodel',\n",
              " 'smusx16475',\n",
              " 'auto',\n",
              " 'beatg3',\n",
              " 'repjohnkatko',\n",
              " 'floral',\n",
              " 'striker',\n",
              " 'youssefyamani',\n",
              " 'doofus',\n",
              " 'leader',\n",
              " 'marlon',\n",
              " 'grant',\n",
              " 'i\\x89û',\n",
              " 'rhyme',\n",
              " 'make',\n",
              " 'wld',\n",
              " 'twia',\n",
              " 'bonhomme37',\n",
              " 'daisy',\n",
              " 'suicidebombing',\n",
              " 'teammate',\n",
              " 'buy',\n",
              " 'pass',\n",
              " 'metre',\n",
              " 'superintendent',\n",
              " 'grimrail',\n",
              " 'sunray',\n",
              " 'oldtimey',\n",
              " 'consultative',\n",
              " 'stone',\n",
              " 'idiot',\n",
              " 'ha',\n",
              " 'alaska',\n",
              " 'deniseromano',\n",
              " 'wsazbrittany',\n",
              " 'benjamin',\n",
              " 'flooding',\n",
              " 'bored',\n",
              " 'lanford',\n",
              " 'discount',\n",
              " 'palm',\n",
              " 'mk',\n",
              " '452',\n",
              " 'bb4sp',\n",
              " 'totoooooooooo',\n",
              " 'taco',\n",
              " 'complex',\n",
              " 'wrightsboro',\n",
              " 'integrity',\n",
              " 'mraamirjavaid',\n",
              " 'nkulw',\n",
              " '160',\n",
              " 'sport',\n",
              " 'rights',\n",
              " 'guide',\n",
              " 'wk',\n",
              " 'j',\n",
              " 'marketforce\\x89ûªs',\n",
              " 'landing',\n",
              " 'soni',\n",
              " 'lizhphoto',\n",
              " 'windmy',\n",
              " '50',\n",
              " 'abbruchsimulator',\n",
              " 'jupiters',\n",
              " 'copperfields',\n",
              " 'winston',\n",
              " 'sholt87',\n",
              " 'uptownjorge',\n",
              " 'accidents\\x89ûª',\n",
              " 'arreat',\n",
              " 'cameronwate',\n",
              " 'jimin',\n",
              " 'concrete',\n",
              " 'will',\n",
              " 'manchesterlite',\n",
              " 'daddy',\n",
              " 'contrast',\n",
              " 'macon',\n",
              " '75000',\n",
              " 'moment',\n",
              " 'bit',\n",
              " 'bubblycuteone',\n",
              " 'overzero',\n",
              " 'thurlow',\n",
              " 'bland',\n",
              " 'intl',\n",
              " 'lorr',\n",
              " 'dump',\n",
              " 'missambear',\n",
              " 'album',\n",
              " '5th',\n",
              " 'fashion',\n",
              " 'shadowed',\n",
              " 'displace',\n",
              " 'beastly',\n",
              " 'seagulls',\n",
              " 'soviet',\n",
              " 'scorch',\n",
              " 'hersvp',\n",
              " 'cup',\n",
              " 'irelandwe',\n",
              " 'dispensary',\n",
              " 'lucymayofficial',\n",
              " 'bu\\x89û',\n",
              " 'introduce',\n",
              " 'copper',\n",
              " 'dardanelle',\n",
              " 'search',\n",
              " 'montego',\n",
              " 'else',\n",
              " 'bantrophyhunte',\n",
              " 'jishine',\n",
              " 'qz',\n",
              " 'gard',\n",
              " 'holymileyray',\n",
              " 'masse',\n",
              " 'shooter',\n",
              " 'casualty',\n",
              " 'leedstraif',\n",
              " 'trust',\n",
              " 'corey',\n",
              " 'astrologian',\n",
              " 'wallybaiter',\n",
              " 'i\\x89ûªd',\n",
              " 'retirement',\n",
              " 'sentient',\n",
              " 'couples',\n",
              " 'jumperca\\x89û',\n",
              " 'review',\n",
              " 'awesome',\n",
              " 'schedule\\x89û',\n",
              " 'exotic',\n",
              " 'yugvani',\n",
              " 'santos',\n",
              " 'dieplease',\n",
              " 'exist',\n",
              " 'wtf',\n",
              " 'milk',\n",
              " '\\x89ã¢',\n",
              " 'cree',\n",
              " 'robertwelch',\n",
              " 'seemly',\n",
              " '\\x89ûïbbcwomanshour',\n",
              " 'drag',\n",
              " 'end\\x89û',\n",
              " 'aliveafter5',\n",
              " 'lilithsaintcrow',\n",
              " 'fed',\n",
              " 'mh',\n",
              " 'capsized',\n",
              " '\\x89û÷05',\n",
              " 'label',\n",
              " 'eheks',\n",
              " 'hitchhiking',\n",
              " 'gang',\n",
              " 'violent',\n",
              " 'brief',\n",
              " '0025',\n",
              " 'advise',\n",
              " 'chart',\n",
              " 'aelinrhee',\n",
              " 'komen',\n",
              " 'soo',\n",
              " 'emittin',\n",
              " 'defeater',\n",
              " '\\x89ûïleoblakecarter',\n",
              " 'sunny',\n",
              " 'tightly',\n",
              " 'lovely',\n",
              " 'whistleblower',\n",
              " 'dserialpcilp',\n",
              " 'wdym',\n",
              " 'qampa',\n",
              " 'shaheed',\n",
              " 'drfriedencdc',\n",
              " 'rtcom',\n",
              " 'ori',\n",
              " 'pusssssssssy',\n",
              " 'miss',\n",
              " 'guam',\n",
              " 'rubi',\n",
              " 'youngheroesid',\n",
              " 'ks161',\n",
              " 'enablement',\n",
              " 'boast',\n",
              " 'halsey',\n",
              " 'hijacker',\n",
              " 'texans',\n",
              " 'span',\n",
              " 'intersection',\n",
              " 'gazette',\n",
              " 'nicole',\n",
              " 'adultblackmale',\n",
              " 'introdesolation',\n",
              " 'rightwaystan',\n",
              " 'yankees',\n",
              " 'rs5',\n",
              " 'it\\x89û\\x9d',\n",
              " '061',\n",
              " 'statement',\n",
              " 'softball',\n",
              " 'stirring',\n",
              " 'rohingya',\n",
              " 'thailand',\n",
              " '124',\n",
              " 'clash',\n",
              " 'knoxville',\n",
              " 'sux',\n",
              " 'olliebailey11',\n",
              " 'screening',\n",
              " 'whippenz',\n",
              " 'sad',\n",
              " 'reality',\n",
              " 'ass',\n",
              " 'cheer',\n",
              " 'million',\n",
              " 'russiaukraine',\n",
              " 'pir',\n",
              " '\\x89û÷plot',\n",
              " 'coral',\n",
              " 'dent',\n",
              " 'elm',\n",
              " 'grizzly',\n",
              " 'apano55',\n",
              " 'ahhhh',\n",
              " 'crowd',\n",
              " 'kbeastx',\n",
              " 'zombie',\n",
              " 'floatin',\n",
              " 'esoteric',\n",
              " 'acc',\n",
              " 'fx',\n",
              " 'beauty',\n",
              " 'narrative',\n",
              " 'cluei',\n",
              " 'kennel',\n",
              " 'freegeezy17',\n",
              " 'discover',\n",
              " 'kurdistan',\n",
              " 'bicep',\n",
              " 'infamous',\n",
              " 'web',\n",
              " 'ferguson',\n",
              " 'hoe',\n",
              " 'harrisgle',\n",
              " 'super',\n",
              " 'bestseller',\n",
              " 'alisonannyoung',\n",
              " 'rdg',\n",
              " 'daewony0406',\n",
              " 'tribune',\n",
              " 'gregory',\n",
              " 'evebrigid',\n",
              " 'nepal',\n",
              " 'thisisperidot',\n",
              " 'startelegram',\n",
              " 'usat',\n",
              " 'pipeliners',\n",
              " 'flow397',\n",
              " 'rfcgeom66',\n",
              " 'realize',\n",
              " 'positively',\n",
              " 'besafe',\n",
              " 'obliterate',\n",
              " '\\x89ûïthat\\x89ûªs',\n",
              " 'tinder',\n",
              " 'crusty',\n",
              " 'lad',\n",
              " 'overwhelming',\n",
              " 'calestous',\n",
              " 'watchout',\n",
              " 'number',\n",
              " 'lta',\n",
              " 'promo',\n",
              " 'fri',\n",
              " 'manuel',\n",
              " 'liananovoa',\n",
              " 'transfer',\n",
              " 'electr',\n",
              " 'biolab',\n",
              " 'kcarosawmur',\n",
              " '927',\n",
              " 'elect',\n",
              " 'islamaphobe',\n",
              " 'imaging',\n",
              " 'kuala',\n",
              " 'sneak',\n",
              " 'unlicensed',\n",
              " 'option',\n",
              " 'knott',\n",
              " '50shadezofgrey',\n",
              " 'nerve',\n",
              " '63rdprairie',\n",
              " 'miscalculation',\n",
              " 'adriasimon',\n",
              " 'argh',\n",
              " 'interrogation',\n",
              " 'cnni',\n",
              " 'josebasedgod',\n",
              " 'metropolis',\n",
              " 'kro',\n",
              " 'nintendo',\n",
              " 'silverman',\n",
              " 'mlg',\n",
              " 'knife',\n",
              " 'dmt',\n",
              " 'got',\n",
              " 'necessary',\n",
              " 'yiayplan',\n",
              " 'adaptation',\n",
              " 'gameinsight',\n",
              " 'majesty',\n",
              " 'devastation\\x89û',\n",
              " 'bounce',\n",
              " 'exit',\n",
              " 'g',\n",
              " 'goof',\n",
              " 'islamic',\n",
              " 'greeting',\n",
              " 'purple',\n",
              " 'lamha',\n",
              " 'brooo',\n",
              " 'kurds',\n",
              " 'diaporama',\n",
              " 'cutlery',\n",
              " 'cpanel',\n",
              " 'phuket',\n",
              " 'adam',\n",
              " 'zimmer',\n",
              " 'bangampmy',\n",
              " 'absolute',\n",
              " 'unfold',\n",
              " 'critically',\n",
              " 'recommend',\n",
              " 'dancefloor',\n",
              " '325',\n",
              " 'viennabutcher',\n",
              " 'palestine',\n",
              " 'hutch',\n",
              " 'billmccabe',\n",
              " 'incase',\n",
              " 'iran\\x89ûª',\n",
              " 'alex',\n",
              " 'biztip',\n",
              " 'nhl',\n",
              " 'bizzlemahomie',\n",
              " 'account',\n",
              " 'rutherford',\n",
              " 'get',\n",
              " 'island',\n",
              " 'volcano',\n",
              " 'bbc',\n",
              " 'desolationofsmaug',\n",
              " 'pascoe',\n",
              " 'preston\\x89ûªs',\n",
              " 'cdt',\n",
              " 'drbaseball41',\n",
              " 'idgaf',\n",
              " 'caitsroberts',\n",
              " 'treat',\n",
              " '67',\n",
              " 'cyclonereizei',\n",
              " 'edit',\n",
              " '500',\n",
              " 'nkea',\n",
              " 'cuban',\n",
              " 'casualties\\x89û\\x9d',\n",
              " 'dogs',\n",
              " 'machine',\n",
              " 'eudrylantiqua',\n",
              " '536',\n",
              " '55',\n",
              " '194',\n",
              " 'driverlesscar',\n",
              " 'tablet',\n",
              " 'shotgun',\n",
              " 'ca\\x89û',\n",
              " 'ohhsehuns',\n",
              " 'hiphop',\n",
              " 'fforecast',\n",
              " 'civilian',\n",
              " 'tryout',\n",
              " 'teamvodg',\n",
              " 'refund',\n",
              " 'v\\x89û',\n",
              " 'badge',\n",
              " 'chestertweetsuk',\n",
              " 'xii',\n",
              " 'gamefeed',\n",
              " 'menahem',\n",
              " 'istg',\n",
              " 'cow',\n",
              " 'theblaze',\n",
              " 'alarmingly',\n",
              " 'louistomlinson',\n",
              " 'producer',\n",
              " 'cossack',\n",
              " 'curry',\n",
              " 'sizewell',\n",
              " 'aubilenon',\n",
              " 'jamesjustus',\n",
              " 'gauze',\n",
              " '2500',\n",
              " 'boundary',\n",
              " 'orcas',\n",
              " 'robot',\n",
              " 'electricity',\n",
              " 'pug',\n",
              " 'sweater',\n",
              " 'moist',\n",
              " 'stop',\n",
              " 'etisalat',\n",
              " 'cruises',\n",
              " 'pft',\n",
              " 'isisi',\n",
              " 'indiabacked',\n",
              " 'capoeira',\n",
              " 'evacuate',\n",
              " 'refuse',\n",
              " 'autobiography',\n",
              " 'infinite',\n",
              " 'pletch\\x89ûªs',\n",
              " 'antiochhickoryhollowtn',\n",
              " 'sunburned',\n",
              " 'david5fernandez',\n",
              " 'gailsimone',\n",
              " 'mc',\n",
              " 'jamaicaobserver',\n",
              " 'tyar',\n",
              " 'sensor',\n",
              " 'emsne\\x89û',\n",
              " 'aitchkaycee',\n",
              " 'sacking',\n",
              " 'investment',\n",
              " 'watermeloann',\n",
              " 'unsurprisingly',\n",
              " 'canonbringit',\n",
              " 'mainline',\n",
              " '4x4',\n",
              " 'anderson',\n",
              " 'kaldi',\n",
              " 'vivian',\n",
              " 'parkchat',\n",
              " 'parker',\n",
              " 'hero',\n",
              " 'skull',\n",
              " 'park',\n",
              " 'massmurderer',\n",
              " 'busine',\n",
              " 'jimmozel',\n",
              " 'weather',\n",
              " 'naturaldisaster',\n",
              " 'nbanews',\n",
              " 'aurora',\n",
              " 'stylishly',\n",
              " 'bradleybrad47',\n",
              " 'v',\n",
              " 'drsarwatzaib070',\n",
              " 'wxiatv',\n",
              " 'icicle',\n",
              " 'minuscule',\n",
              " 'onshit',\n",
              " 'pink',\n",
              " 'amiibos',\n",
              " 'demonization',\n",
              " 'fund',\n",
              " 'riser',\n",
              " 'of\\x89û',\n",
              " 'lvictoria',\n",
              " 'straighten',\n",
              " 'thinkpink',\n",
              " 'southkorea',\n",
              " 'consume',\n",
              " 'prez',\n",
              " 'hoodedu',\n",
              " 'affliction',\n",
              " 'lauradeholanda',\n",
              " 'rein',\n",
              " 'organizationsfluctuations',\n",
              " 'rubbin',\n",
              " 'stl',\n",
              " 'japan',\n",
              " 'nagasaki',\n",
              " 'repdonbeyer',\n",
              " 'esse',\n",
              " 'crosed',\n",
              " 'rich',\n",
              " 'uspacific',\n",
              " '52k',\n",
              " 'vol',\n",
              " 'jeannamibian',\n",
              " 'sammy',\n",
              " '0215',\n",
              " '250000',\n",
              " 'ear',\n",
              " 'furiosoxv',\n",
              " 'tfl',\n",
              " 'objection',\n",
              " 'buroker',\n",
              " 'shad',\n",
              " 'religious',\n",
              " 'rawfoodbliss',\n",
              " 'tvshowtime',\n",
              " 'carajdeievingnc',\n",
              " 'biggar',\n",
              " 'oocvg',\n",
              " 'hdumpty39',\n",
              " 'usatodaynfl',\n",
              " 'cleanup',\n",
              " 'asf',\n",
              " 'bayelsa',\n",
              " 'mil',\n",
              " 'rainwindstorm',\n",
              " 'kamindoz',\n",
              " 'actavis',\n",
              " 'alekalicante',\n",
              " 'biosurveillance',\n",
              " 'deltachildren',\n",
              " 'tonne',\n",
              " 'wmiddle',\n",
              " 'dlc',\n",
              " 'sunflower',\n",
              " 'digit',\n",
              " 'taiwan',\n",
              " 'eo',\n",
              " '\\x89û÷bomb',\n",
              " 'seattletimes',\n",
              " '1200',\n",
              " 'generation',\n",
              " 'sadly',\n",
              " 'arvindkejriwal',\n",
              " 'ownership',\n",
              " 'damnaarielle',\n",
              " 'toxicsavior',\n",
              " 'dawson',\n",
              " '6aug',\n",
              " 'adjust',\n",
              " 'favs',\n",
              " 'sufficiently',\n",
              " 'petersburg',\n",
              " 'unite',\n",
              " 'banquet',\n",
              " 'basis',\n",
              " 'ks315',\n",
              " 'collaborate',\n",
              " 'hem712c',\n",
              " 'rachelrofe',\n",
              " 'earbud',\n",
              " 'wipp',\n",
              " 'to\\x89û',\n",
              " 'griffin',\n",
              " 'chp',\n",
              " 'nafeezahmed',\n",
              " 'biker',\n",
              " 'zone',\n",
              " 'memebaiting',\n",
              " 'happen',\n",
              " '10th',\n",
              " 'bigperm28',\n",
              " 'spurgeon',\n",
              " 'seriously',\n",
              " '1211',\n",
              " 'falcon',\n",
              " 'kraft',\n",
              " 'invalid',\n",
              " 'colorism',\n",
              " 'right',\n",
              " 'politely',\n",
              " 'wrecked',\n",
              " 'vale',\n",
              " 'expense',\n",
              " 'herring',\n",
              " 'hw',\n",
              " 'lotg',\n",
              " 'teemo',\n",
              " 'adelaide',\n",
              " 'shantaeskyy',\n",
              " '20150806',\n",
              " 'drought',\n",
              " 'bae',\n",
              " 'theft',\n",
              " 'reriellechan',\n",
              " 'af',\n",
              " 'bait',\n",
              " 'becyme',\n",
              " 'peaceloverescue',\n",
              " 'dagger',\n",
              " 'mlk',\n",
              " 'rockefellerchirockefellerunivheiress',\n",
              " 'bathe',\n",
              " 'angry',\n",
              " 'powder',\n",
              " 'spiderweb',\n",
              " 'proc',\n",
              " 'hcg',\n",
              " 'cracker',\n",
              " '1038pm',\n",
              " '70th',\n",
              " 'po',\n",
              " 'gassymexican',\n",
              " 'meansit',\n",
              " 'bankstown',\n",
              " 'gaybi',\n",
              " 'news24680',\n",
              " 'terwilliger',\n",
              " 'mfi',\n",
              " 'looney',\n",
              " 'favori',\n",
              " 'exchange',\n",
              " 'swingman',\n",
              " 'direction',\n",
              " 'timeworld',\n",
              " 'skin',\n",
              " 'nopassenger',\n",
              " 'grindhouse',\n",
              " 'mrw',\n",
              " 'shoook',\n",
              " '11st',\n",
              " 'å£300',\n",
              " 'finall\\x89û',\n",
              " 'pcps',\n",
              " 'sqwizzix',\n",
              " 'njturnpike',\n",
              " 'falmer',\n",
              " 'indexing',\n",
              " 'mikecroninwmur',\n",
              " 'stuartbroad8',\n",
              " 'haram',\n",
              " 'firefigther',\n",
              " 'pic',\n",
              " 'waimea',\n",
              " 'recal',\n",
              " 'pity',\n",
              " 'worrying',\n",
              " 'surprise',\n",
              " 'wbioterrorismampuse',\n",
              " 'valentines',\n",
              " 'recipe',\n",
              " 'colorado',\n",
              " 'motivation',\n",
              " 'megaquake',\n",
              " 'gorgeous',\n",
              " 'concussion',\n",
              " 'paw',\n",
              " 'monroes',\n",
              " 'pple',\n",
              " 'connectorconnecto',\n",
              " 'lucas',\n",
              " 'budget',\n",
              " 'simpson\\x89û',\n",
              " 'thepartyofmeanness',\n",
              " 'wrap',\n",
              " 'blackcats',\n",
              " 'dip',\n",
              " 'huge',\n",
              " 'uncle',\n",
              " 'hhahaha',\n",
              " 'significant',\n",
              " 'olympic',\n",
              " 'mania',\n",
              " 'pennington',\n",
              " 'sharif',\n",
              " 'hasåêarrived',\n",
              " 'manservant',\n",
              " 'olrules',\n",
              " 'ldrago',\n",
              " 'reoccur',\n",
              " 'carnegie',\n",
              " 'moral',\n",
              " 'japanjapan',\n",
              " 'x1402',\n",
              " 'nsit',\n",
              " 'corycove',\n",
              " 'pool',\n",
              " 'lrt',\n",
              " 'hew',\n",
              " 'bridgetown',\n",
              " 'fireball',\n",
              " 'outdoor',\n",
              " 'mutt',\n",
              " 'breaking144',\n",
              " 'pantofel',\n",
              " 'flgovscott',\n",
              " 'andrea',\n",
              " 'thh',\n",
              " 'film',\n",
              " 'cobes',\n",
              " 'rangerkaitimay',\n",
              " 'officially',\n",
              " 'itunes',\n",
              " 'kuznetsova',\n",
              " 'liquidation',\n",
              " 'willienelson',\n",
              " 'kingdom',\n",
              " 'alexjacobsonpfs',\n",
              " 'northbayhealth',\n",
              " 'ne',\n",
              " 'wtwitter',\n",
              " 'organization',\n",
              " 'aggression',\n",
              " 'morningjoe',\n",
              " 'obsolete',\n",
              " 'stupidniggr',\n",
              " 'fremont',\n",
              " 'antioch',\n",
              " 'machismo',\n",
              " '515p',\n",
              " 'melanie',\n",
              " 'jpanzar',\n",
              " 'erdogans',\n",
              " 'prosser',\n",
              " 'academia',\n",
              " 'banking',\n",
              " 'lt3dave',\n",
              " 'catlow',\n",
              " '931pm',\n",
              " 'bcfcticketlady',\n",
              " 'jamilazzaini',\n",
              " 'northland',\n",
              " 'living',\n",
              " 'buck',\n",
              " 'beaverton',\n",
              " 'migrant',\n",
              " 'nasahurricane',\n",
              " 'rossum',\n",
              " 'workforce',\n",
              " 'zaynmaiikist',\n",
              " 'snort',\n",
              " 'dothraki',\n",
              " 'ridge',\n",
              " 'utahcanary',\n",
              " 'public',\n",
              " 'annoy',\n",
              " 'relegation',\n",
              " 'explore',\n",
              " 'telegraphworld',\n",
              " 'violin',\n",
              " 'hoist',\n",
              " 'warship',\n",
              " 'ring',\n",
              " 'smithereen',\n",
              " 'greenlacey',\n",
              " 'eddy',\n",
              " '3945',\n",
              " 'niqqa',\n",
              " 'misfit',\n",
              " 'plus',\n",
              " 'peaceful',\n",
              " 'damn',\n",
              " 'swollen',\n",
              " 'office',\n",
              " 'conning',\n",
              " 'nook',\n",
              " 'uhhhhh',\n",
              " '528',\n",
              " 'eyefact',\n",
              " 'georgegalloway',\n",
              " 'hassle',\n",
              " 'inevitable',\n",
              " 'rì',\n",
              " 'mayor',\n",
              " 'col',\n",
              " 'don',\n",
              " 'dramatic',\n",
              " 'pizzarev',\n",
              " 'investigator',\n",
              " 'wn',\n",
              " 'thisispublichealth',\n",
              " 'spouse',\n",
              " 'rainforestresq',\n",
              " 'imawesome7986',\n",
              " 'tunas',\n",
              " 'quiz',\n",
              " 'presley',\n",
              " 'mpp',\n",
              " 'lakh\\x89û',\n",
              " 'identitytheft',\n",
              " 'mint',\n",
              " 'punishable',\n",
              " 'ffvii',\n",
              " 'oper',\n",
              " 'outfield',\n",
              " 'timebomb',\n",
              " 'garden',\n",
              " 'font',\n",
              " '935',\n",
              " 'bye',\n",
              " 'memories',\n",
              " 'starve',\n",
              " 'wednes',\n",
              " 'rubber',\n",
              " 'apollo',\n",
              " 'commerce',\n",
              " 'disgust',\n",
              " 'revolt',\n",
              " 'boy\\x89û\\x9d',\n",
              " 'ayyy',\n",
              " 'sequel',\n",
              " 'pcaldicott7',\n",
              " 'decent',\n",
              " 'highrise',\n",
              " 'dyamiplotke',\n",
              " '2pack',\n",
              " '777',\n",
              " 'overflow',\n",
              " 'random',\n",
              " 'regent',\n",
              " 'lnp',\n",
              " 'retiree',\n",
              " 'action',\n",
              " 'mcfadden',\n",
              " 'tuning',\n",
              " 'areavoluntaryinciwebmad',\n",
              " 'carpoole',\n",
              " '4k',\n",
              " 'plaza',\n",
              " 'chairman',\n",
              " 'iraqi',\n",
              " 'dry',\n",
              " 'boing',\n",
              " '3967',\n",
              " 'disorder',\n",
              " '\\x89ûïnews\\x89û\\x9d',\n",
              " 'fpine',\n",
              " 'faulty',\n",
              " 'forney',\n",
              " 'adjustable',\n",
              " '1921',\n",
              " 'appx',\n",
              " 'der',\n",
              " 'yea',\n",
              " 're\\x89û',\n",
              " 'awol',\n",
              " 'superficial',\n",
              " 'cig',\n",
              " 'janenelson097',\n",
              " 'norge2040',\n",
              " 'acute',\n",
              " 'springs',\n",
              " 'area\\x89û',\n",
              " 'bury',\n",
              " 'wx',\n",
              " 'sayedridha',\n",
              " 'cagov',\n",
              " 'strap',\n",
              " '3novices',\n",
              " 'linkury',\n",
              " 'zouma',\n",
              " ...}"
            ]
          },
          "metadata": {
            "tags": []
          },
          "execution_count": 114
        }
      ]
    },
    {
      "cell_type": "code",
      "metadata": {
        "id": "kDTZa1OhKg2A",
        "colab_type": "code",
        "outputId": "2984c3ac-9ccf-4ced-cbd9-3b1ac10bdf76",
        "colab": {
          "base_uri": "https://localhost:8080/",
          "height": 34
        }
      },
      "source": [
        "type(vocabulary_set)"
      ],
      "execution_count": 115,
      "outputs": [
        {
          "output_type": "execute_result",
          "data": {
            "text/plain": [
              "set"
            ]
          },
          "metadata": {
            "tags": []
          },
          "execution_count": 115
        }
      ]
    },
    {
      "cell_type": "code",
      "metadata": {
        "id": "xHR8eW7oJyDo",
        "colab_type": "code",
        "colab": {}
      },
      "source": [
        "# Création d'un nombre pour chacun des tokens que nous avons créés au dessus\n",
        "encoder = tfds.features.text.TokenTextEncoder(vocabulary_set)"
      ],
      "execution_count": 0,
      "outputs": []
    },
    {
      "cell_type": "code",
      "metadata": {
        "id": "i0dP3LCzLSCw",
        "colab_type": "code",
        "outputId": "2696395a-080e-4b98-f99b-764cc59b4f4a",
        "colab": {
          "base_uri": "https://localhost:8080/",
          "height": 71
        }
      },
      "source": [
        "# Regardons le résultat sur un exemple \n",
        "for example, _ in tf_ds.take(1):\n",
        "  print(encoder.encode(example.numpy()))\n",
        "  print(example.numpy())"
      ],
      "execution_count": 117,
      "outputs": [
        {
          "output_type": "stream",
          "text": [
            "[15794, 7257, 15794, 6780, 4105, 7330, 15794, 4091, 2233, 15794, 6826, 15794, 15794, 15794, 4728, 15794, 15794, 7330, 10546, 12347, 7064, 13569]\n",
            "b'i agree with certain cultural appropriation things but honestly if u looked at my house it screams appropriation bc buddhas and stuff'\n"
          ],
          "name": "stdout"
        }
      ]
    },
    {
      "cell_type": "code",
      "metadata": {
        "id": "lWZ-aEaJLYN5",
        "colab_type": "code",
        "colab": {}
      },
      "source": [
        "# Encodons maintenant tous les éléments d'un dataset\n",
        "def encode(text_tensor, label):\n",
        "  encoded_text = encoder.encode(text_tensor.numpy())\n",
        "  return encoded_text, label\n",
        "\n",
        "# Utilisation du fonction py_function pour encoder tout le dataset \n",
        "def encode_map_fn(text, label):\n",
        "  return tf.py_function(encode, inp=[text, label], Tout=(tf.int64, tf.int64))\n",
        "\n",
        "all_encoded_data = tf_ds.map(encode_map_fn)"
      ],
      "execution_count": 0,
      "outputs": []
    },
    {
      "cell_type": "code",
      "metadata": {
        "id": "kDjusdONL21-",
        "colab_type": "code",
        "outputId": "4ff6dfec-f581-4fa5-889e-ff7e974c1342",
        "colab": {
          "base_uri": "https://localhost:8080/",
          "height": 34
        }
      },
      "source": [
        "data_train_clean.shape[0]"
      ],
      "execution_count": 119,
      "outputs": [
        {
          "output_type": "execute_result",
          "data": {
            "text/plain": [
              "7503"
            ]
          },
          "metadata": {
            "tags": []
          },
          "execution_count": 119
        }
      ]
    },
    {
      "cell_type": "code",
      "metadata": {
        "id": "pBP0gOhULmjQ",
        "colab_type": "code",
        "colab": {}
      },
      "source": [
        "# Train Test Split\n",
        "TAKE_SIZE = int(0.7*data_train_clean.shape[0])\n",
        "\n",
        "train_data = all_encoded_data.take(TAKE_SIZE).shuffle(10000)\n",
        "train_data = train_data.padded_batch(16,  padded_shapes=([-1], []))\n",
        "\n",
        "test_data = all_encoded_data.skip(TAKE_SIZE)\n",
        "test_data = test_data.padded_batch(16, padded_shapes=([-1], []))"
      ],
      "execution_count": 0,
      "outputs": []
    },
    {
      "cell_type": "code",
      "metadata": {
        "id": "ZULvwV4OL6WA",
        "colab_type": "code",
        "outputId": "09f6730a-b8c8-4a4b-f3fc-ddd89e910b9e",
        "colab": {
          "base_uri": "https://localhost:8080/",
          "height": 850
        }
      },
      "source": [
        " # Regardons un batch \n",
        "for text, target in train_data.take(1):\n",
        "  print(text, target)"
      ],
      "execution_count": 121,
      "outputs": [
        {
          "output_type": "stream",
          "text": [
            "tf.Tensor(\n",
            "[[  869   201  5122  5679 15794  7064 15794 12678 15794 15794 15794 11755\n",
            "  11493 15436 15794 15794 15794 15794 15794  5126  4527   453     0     0\n",
            "      0     0     0]\n",
            " [ 6534    95 10452 15794 12478  4039  7749  1814 15794  2965  1814 15794\n",
            "   2965  6534 12541     0     0     0     0     0     0     0     0     0\n",
            "      0     0     0]\n",
            " [ 2609 15794  7640   226 14778  5027 15794 15794  1353     0     0     0\n",
            "      0     0     0     0     0     0     0     0     0     0     0     0\n",
            "      0     0     0]\n",
            " [15794 15794  8302 15794 15794 15794  5294 15794 15794 15794 15794  9650\n",
            "  15794 15794 12337 15794 15794 10797 15794 11831  1554 11755   501 15794\n",
            "  15794  1208     0]\n",
            " [ 7296  1720 14864   226 15794  7340  9602 14621     0     0     0     0\n",
            "      0     0     0     0     0     0     0     0     0     0     0     0\n",
            "      0     0     0]\n",
            " [15794 15794 13362   308  7064  5533 10924 15794 15794 15794 15794   484\n",
            "      0     0     0     0     0     0     0     0     0     0     0     0\n",
            "      0     0     0]\n",
            " [15794 15794 15794 15794 15794 15794  1303  4052  5599     0     0     0\n",
            "      0     0     0     0     0     0     0     0     0     0     0     0\n",
            "      0     0     0]\n",
            " [ 1870  9513  7148  4621     0     0     0     0     0     0     0     0\n",
            "      0     0     0     0     0     0     0     0     0     0     0     0\n",
            "      0     0     0]\n",
            " [ 2368 15794 14757 15794 15794  9618 11573 11755  3564 15794 11755 15794\n",
            "  15794 15794 15794 11665     0     0     0     0     0     0     0     0\n",
            "      0     0     0]\n",
            " [ 4353 15794 15794 15794 15794 15794 15794  1486 15794 11665  7064 15794\n",
            "  15794 15180  1720 15794 15794  1755     0     0     0     0     0     0\n",
            "      0     0     0]\n",
            " [15794 15794  3793 15794 10924 15794 15794 15794 15794  7761 15794 11969\n",
            "  12022 15794  1774 15794 10910 15794  2175 15794 15794  2089 15794 15794\n",
            "  15794 15794 15177]\n",
            " [12456 14194 15638 15794 13063 11755  1402   706 15794 14865  6371     0\n",
            "      0     0     0     0     0     0     0     0     0     0     0     0\n",
            "      0     0     0]\n",
            " [ 8468 11949  1402 15794  1935 15365 15794 15595 15794 15794  6374 12253\n",
            "  15794 15794 11755 15794  7732     0     0     0     0     0     0     0\n",
            "      0     0     0]\n",
            " [  734 15794 15794 15794  6998 15794 15794   270 14991 15794   109 15794\n",
            "   9381 15794     0     0     0     0     0     0     0     0     0     0\n",
            "      0     0     0]\n",
            " [15794  1565 15794 15794 15794 13372  4761  7064 15794 15794  4661 15794\n",
            "  15794 15794 15794 15794  6837 15794 15794  4740 11755  8739  5905     0\n",
            "      0     0     0]\n",
            " [   70 13714     0     0     0     0     0     0     0     0     0     0\n",
            "      0     0     0     0     0     0     0     0     0     0     0     0\n",
            "      0     0     0]], shape=(16, 27), dtype=int64) tf.Tensor([0 1 0 0 0 1 1 1 1 1 0 1 1 1 0 1], shape=(16,), dtype=int64)\n"
          ],
          "name": "stdout"
        }
      ]
    },
    {
      "cell_type": "code",
      "metadata": {
        "id": "ObMaMcTRUBna",
        "colab_type": "code",
        "colab": {
          "base_uri": "https://localhost:8080/",
          "height": 850
        },
        "outputId": "ed7319c4-3854-4b25-b9ca-27da422a36fd"
      },
      "source": [
        "# Regardons un batch dans le test_data\n",
        "for text, target in test_data.take(1):\n",
        "  print(text, target)"
      ],
      "execution_count": 140,
      "outputs": [
        {
          "output_type": "stream",
          "text": [
            "tf.Tensor(\n",
            "[[15794  3212 15794  1720  4704 15794 12684     0     0     0     0     0\n",
            "      0     0     0     0     0     0     0     0     0     0     0     0\n",
            "      0     0     0     0]\n",
            " [ 9790 15794 15794  5679 15794   441 11755   173 15794 15794  7148  7047\n",
            "  15794 11070  1191 15794 15794 15794     0     0     0     0     0     0\n",
            "      0     0     0     0]\n",
            " [15794  3517  5968 15794 15794 12097  1914 15794  9913  3579 15794  2320\n",
            "   6066 15794 12744     0     0     0     0     0     0     0     0     0\n",
            "      0     0     0     0]\n",
            " [ 2179 15794 15794 15794 15180 15794     0     0     0     0     0     0\n",
            "      0     0     0     0     0     0     0     0     0     0     0     0\n",
            "      0     0     0     0]\n",
            " [ 6087 15794  3027  7836 15794 14607 15794 15794  1696  7397  7204 15794\n",
            "      0     0     0     0     0     0     0     0     0     0     0     0\n",
            "      0     0     0     0]\n",
            " [15794 12327  3337 15794 15391  8526  2854  7185  6509 15794 15794 15794\n",
            "  15794 11194  7064 15794 15794 15794   470 12989 15794  4422 15794 15794\n",
            "   9107     0     0     0]\n",
            " [ 6794 15794  5745 10535 15794  5936 11506 15794 15794  2819 13294 15794\n",
            "  15794  9560     0     0     0     0     0     0     0     0     0     0\n",
            "      0     0     0     0]\n",
            " [ 8429  3133 15794  3334 15794  7891 15794 11564 15794     0     0     0\n",
            "      0     0     0     0     0     0     0     0     0     0     0     0\n",
            "      0     0     0     0]\n",
            " [11755 15794 15794 15794 15794 15794 15794 12291 11784  1647 15794 15794\n",
            "  15759   925 15794 15794 15794  9525  5061     0     0     0     0     0\n",
            "      0     0     0     0]\n",
            " [11462 15794 15794 12212  6331 15794 15794 15794 15794 15794 15794 10205\n",
            "  15794 13967 15794 13864 15794   109 15794 15794 15794   109 15794 15794\n",
            "   5049  5424 15794 10971]\n",
            " [15794 15794 15794  6269 15794 15794  2925 15794 15794 11223 15794  8417\n",
            "  15794 15794 15794 15794     0     0     0     0     0     0     0     0\n",
            "      0     0     0     0]\n",
            " [ 2609 15794  7640 11755 14778  5027 15794 15794 13183 15794 10035  1154\n",
            "  10286 15794  1353     0     0     0     0     0     0     0     0     0\n",
            "      0     0     0     0]\n",
            " [ 1506  6990  6031 10910 15794  2175 11535 15794 15794 11665  8404     0\n",
            "      0     0     0     0     0     0     0     0     0     0     0     0\n",
            "      0     0     0     0]\n",
            " [15794  7064 15794 15794  9859 15794 15794 15794  9440  3531 15794 12003\n",
            "  15794 15794 11755 12917  5138  1504  2114  2569 15794 11059 11377  5701\n",
            "   9306  3483     0     0]\n",
            " [14931 13304  1604 14741  6894     0     0     0     0     0     0     0\n",
            "      0     0     0     0     0     0     0     0     0     0     0     0\n",
            "      0     0     0     0]\n",
            " [ 9909  4878 15794 14969  6322 15794   676     0     0     0     0     0\n",
            "      0     0     0     0     0     0     0     0     0     0     0     0\n",
            "      0     0     0     0]], shape=(16, 28), dtype=int64) tf.Tensor([1 0 0 0 1 1 1 0 0 0 0 1 0 1 0 1], shape=(16,), dtype=int64)\n"
          ],
          "name": "stdout"
        }
      ]
    },
    {
      "cell_type": "code",
      "metadata": {
        "id": "LBAH4VZ8MKSY",
        "colab_type": "code",
        "colab": {}
      },
      "source": [
        "model = tf.keras.Sequential([\n",
        "                  # Couche d'Input Word Embedding           \n",
        "                  tf.keras.layers.Embedding(encoder.vocab_size, 64),\n",
        "\n",
        "                  # Couche LSTM Bidirectionnelle\n",
        "                  tf.keras.layers.Bidirectional(tf.keras.layers.LSTM(64, return_sequences=True)),\n",
        "\n",
        "                  # Couche CNN\n",
        "                  tf.keras.layers.Conv1D(16, 3, activation=\"relu\"),\n",
        "                  \n",
        "                  # Nouvelle couche LSTM Bidirectionnel\n",
        "                  tf.keras.layers.Bidirectional(tf.keras.layers.LSTM(64, return_sequences=True)),\n",
        "                  # Nouvelle couche LSTM\n",
        "                  tf.keras.layers.LSTM(32, return_sequences=False),               \n",
        "\n",
        "                  # Couche Dense classique \n",
        "                  tf.keras.layers.Dense(64, activation='relu'),\n",
        "                  tf.keras.layers.Dense(32, activation='relu'),\n",
        "                  tf.keras.layers.Dense(16, activation='relu'),\n",
        "                  tf.keras.layers.Dense(8, activation='relu'),\n",
        "\n",
        "                  # Couche de sortie avec un neurone et une fonction d'activation sigmoide (Proba d'être un real disaster) \n",
        "                  tf.keras.layers.Dense(1, activation=\"sigmoid\")\n",
        "                                              \n",
        "])"
      ],
      "execution_count": 0,
      "outputs": []
    },
    {
      "cell_type": "code",
      "metadata": {
        "id": "WZ1ebaCMNh0y",
        "colab_type": "code",
        "colab": {}
      },
      "source": [
        "# Créons un learning rate schedule pour décroitre le learning rate à mesure que nous entrainons le modèle \n",
        "initial_learning_rate = 0.0001\n",
        "\n",
        "lr_schedule = tf.keras.optimizers.schedules.ExponentialDecay(\n",
        "    initial_learning_rate,\n",
        "    decay_steps=2500,\n",
        "    decay_rate=0.96,\n",
        "    staircase=True)\n",
        "\n",
        "# Utilisation d'un compileur simple avec un optimiseur Adam pour le calcul de nos gradients \n",
        "optimizer= tf.keras.optimizers.Adam(\n",
        "    learning_rate = lr_schedule\n",
        ")\n",
        "\n",
        "model.compile(optimizer=optimizer,\n",
        "              loss=tf.keras.losses.binary_crossentropy,\n",
        "              metrics=[tf.keras.metrics.binary_accuracy])"
      ],
      "execution_count": 0,
      "outputs": []
    },
    {
      "cell_type": "code",
      "metadata": {
        "id": "xnnY6oftO0xB",
        "colab_type": "code",
        "outputId": "97572add-a1db-4106-c5ba-29b617dc0cfb",
        "colab": {
          "base_uri": "https://localhost:8080/",
          "height": 1000
        }
      },
      "source": [
        "# Entrainement du modèle \n",
        "history = model.fit(train_data, \n",
        "                    epochs=40, \n",
        "                    validation_data=test_data)"
      ],
      "execution_count": 149,
      "outputs": [
        {
          "output_type": "stream",
          "text": [
            "Epoch 1/40\n",
            "329/329 [==============================] - 12s 35ms/step - loss: 0.6180 - binary_accuracy: 0.6538 - val_loss: 0.4538 - val_binary_accuracy: 0.8112\n",
            "Epoch 2/40\n",
            "329/329 [==============================] - 11s 33ms/step - loss: 0.4287 - binary_accuracy: 0.8153 - val_loss: 0.3529 - val_binary_accuracy: 0.8596\n",
            "Epoch 3/40\n",
            "329/329 [==============================] - 10s 32ms/step - loss: 0.3250 - binary_accuracy: 0.8740 - val_loss: 0.3058 - val_binary_accuracy: 0.8841\n",
            "Epoch 4/40\n",
            "329/329 [==============================] - 11s 32ms/step - loss: 0.2789 - binary_accuracy: 0.8955 - val_loss: 0.2286 - val_binary_accuracy: 0.9196\n",
            "Epoch 5/40\n",
            "329/329 [==============================] - 11s 33ms/step - loss: 0.2329 - binary_accuracy: 0.9158 - val_loss: 0.1779 - val_binary_accuracy: 0.9396\n",
            "Epoch 6/40\n",
            "329/329 [==============================] - 11s 33ms/step - loss: 0.1874 - binary_accuracy: 0.9341 - val_loss: 0.1367 - val_binary_accuracy: 0.9534\n",
            "Epoch 7/40\n",
            "329/329 [==============================] - 11s 33ms/step - loss: 0.1518 - binary_accuracy: 0.9476 - val_loss: 0.1098 - val_binary_accuracy: 0.9645\n",
            "Epoch 8/40\n",
            "329/329 [==============================] - 11s 33ms/step - loss: 0.1322 - binary_accuracy: 0.9579 - val_loss: 0.1011 - val_binary_accuracy: 0.9689\n",
            "Epoch 9/40\n",
            "329/329 [==============================] - 11s 33ms/step - loss: 0.1091 - binary_accuracy: 0.9644 - val_loss: 0.1039 - val_binary_accuracy: 0.9680\n",
            "Epoch 10/40\n",
            "329/329 [==============================] - 11s 33ms/step - loss: 0.0932 - binary_accuracy: 0.9690 - val_loss: 0.0832 - val_binary_accuracy: 0.9765\n",
            "Epoch 11/40\n",
            "329/329 [==============================] - 11s 33ms/step - loss: 0.0888 - binary_accuracy: 0.9732 - val_loss: 0.0750 - val_binary_accuracy: 0.9791\n",
            "Epoch 12/40\n",
            "329/329 [==============================] - 11s 33ms/step - loss: 0.0784 - binary_accuracy: 0.9733 - val_loss: 0.0712 - val_binary_accuracy: 0.9782\n",
            "Epoch 13/40\n",
            "329/329 [==============================] - 11s 33ms/step - loss: 0.0744 - binary_accuracy: 0.9745 - val_loss: 0.0724 - val_binary_accuracy: 0.9787\n",
            "Epoch 14/40\n",
            "329/329 [==============================] - 11s 33ms/step - loss: 0.0645 - binary_accuracy: 0.9794 - val_loss: 0.0423 - val_binary_accuracy: 0.9858\n",
            "Epoch 15/40\n",
            "329/329 [==============================] - 11s 33ms/step - loss: 0.0621 - binary_accuracy: 0.9796 - val_loss: 0.0521 - val_binary_accuracy: 0.9813\n",
            "Epoch 16/40\n",
            "329/329 [==============================] - 11s 33ms/step - loss: 0.0629 - binary_accuracy: 0.9770 - val_loss: 0.0630 - val_binary_accuracy: 0.9805\n",
            "Epoch 17/40\n",
            "329/329 [==============================] - 11s 33ms/step - loss: 0.0560 - binary_accuracy: 0.9810 - val_loss: 0.0554 - val_binary_accuracy: 0.9809\n",
            "Epoch 18/40\n",
            "329/329 [==============================] - 11s 33ms/step - loss: 0.0490 - binary_accuracy: 0.9823 - val_loss: 0.0388 - val_binary_accuracy: 0.9884\n",
            "Epoch 19/40\n",
            "329/329 [==============================] - 11s 33ms/step - loss: 0.0477 - binary_accuracy: 0.9848 - val_loss: 0.0455 - val_binary_accuracy: 0.9858\n",
            "Epoch 20/40\n",
            "329/329 [==============================] - 11s 33ms/step - loss: 0.0529 - binary_accuracy: 0.9812 - val_loss: 0.0488 - val_binary_accuracy: 0.9831\n",
            "Epoch 21/40\n",
            "329/329 [==============================] - 11s 33ms/step - loss: 0.0501 - binary_accuracy: 0.9817 - val_loss: 0.0361 - val_binary_accuracy: 0.9862\n",
            "Epoch 22/40\n",
            "329/329 [==============================] - 11s 34ms/step - loss: 0.0500 - binary_accuracy: 0.9810 - val_loss: 0.0486 - val_binary_accuracy: 0.9845\n",
            "Epoch 23/40\n",
            "329/329 [==============================] - 11s 33ms/step - loss: 0.0449 - binary_accuracy: 0.9840 - val_loss: 0.0383 - val_binary_accuracy: 0.9836\n",
            "Epoch 24/40\n",
            "329/329 [==============================] - 11s 33ms/step - loss: 0.0441 - binary_accuracy: 0.9842 - val_loss: 0.0439 - val_binary_accuracy: 0.9796\n",
            "Epoch 25/40\n",
            "329/329 [==============================] - 11s 33ms/step - loss: 0.0416 - binary_accuracy: 0.9844 - val_loss: 0.0468 - val_binary_accuracy: 0.9849\n",
            "Epoch 26/40\n",
            "329/329 [==============================] - 11s 32ms/step - loss: 0.0422 - binary_accuracy: 0.9831 - val_loss: 0.0308 - val_binary_accuracy: 0.9876\n",
            "Epoch 27/40\n",
            "329/329 [==============================] - 11s 33ms/step - loss: 0.0429 - binary_accuracy: 0.9834 - val_loss: 0.0521 - val_binary_accuracy: 0.9778\n",
            "Epoch 28/40\n",
            "329/329 [==============================] - 11s 33ms/step - loss: 0.0389 - binary_accuracy: 0.9844 - val_loss: 0.0318 - val_binary_accuracy: 0.9880\n",
            "Epoch 29/40\n",
            "329/329 [==============================] - 11s 33ms/step - loss: 0.0392 - binary_accuracy: 0.9834 - val_loss: 0.0379 - val_binary_accuracy: 0.9862\n",
            "Epoch 30/40\n",
            "329/329 [==============================] - 11s 34ms/step - loss: 0.0358 - binary_accuracy: 0.9863 - val_loss: 0.0361 - val_binary_accuracy: 0.9884\n",
            "Epoch 31/40\n",
            "329/329 [==============================] - 11s 33ms/step - loss: 0.0371 - binary_accuracy: 0.9865 - val_loss: 0.0499 - val_binary_accuracy: 0.9840\n",
            "Epoch 32/40\n",
            "329/329 [==============================] - 11s 32ms/step - loss: 0.0371 - binary_accuracy: 0.9855 - val_loss: 0.0296 - val_binary_accuracy: 0.9884\n",
            "Epoch 33/40\n",
            "329/329 [==============================] - 11s 33ms/step - loss: 0.0363 - binary_accuracy: 0.9846 - val_loss: 0.0279 - val_binary_accuracy: 0.9889\n",
            "Epoch 34/40\n",
            "329/329 [==============================] - 11s 33ms/step - loss: 0.0349 - binary_accuracy: 0.9832 - val_loss: 0.0314 - val_binary_accuracy: 0.9893\n",
            "Epoch 35/40\n",
            "329/329 [==============================] - 11s 33ms/step - loss: 0.0379 - binary_accuracy: 0.9855 - val_loss: 0.0264 - val_binary_accuracy: 0.9871\n",
            "Epoch 36/40\n",
            "329/329 [==============================] - 11s 33ms/step - loss: 0.0371 - binary_accuracy: 0.9861 - val_loss: 0.0284 - val_binary_accuracy: 0.9884\n",
            "Epoch 37/40\n",
            "329/329 [==============================] - 11s 33ms/step - loss: 0.0342 - binary_accuracy: 0.9865 - val_loss: 0.0219 - val_binary_accuracy: 0.9898\n",
            "Epoch 38/40\n",
            "329/329 [==============================] - 11s 33ms/step - loss: 0.0325 - binary_accuracy: 0.9859 - val_loss: 0.0288 - val_binary_accuracy: 0.9858\n",
            "Epoch 39/40\n",
            "329/329 [==============================] - 11s 33ms/step - loss: 0.0357 - binary_accuracy: 0.9855 - val_loss: 0.0415 - val_binary_accuracy: 0.9809\n",
            "Epoch 40/40\n",
            "329/329 [==============================] - 11s 32ms/step - loss: 0.0323 - binary_accuracy: 0.9869 - val_loss: 0.0308 - val_binary_accuracy: 0.9867\n"
          ],
          "name": "stdout"
        }
      ]
    },
    {
      "cell_type": "code",
      "metadata": {
        "id": "A-XtWHPSWzl0",
        "colab_type": "code",
        "outputId": "33e0b787-0271-40ec-e067-6f076f606968",
        "colab": {
          "base_uri": "https://localhost:8080/",
          "height": 279
        }
      },
      "source": [
        "import matplotlib.pyplot as plt\n",
        "\n",
        "# Visualisation du processus d'entrainement sur la loss function \n",
        "plt.plot(history.history[\"loss\"], color=\"b\")\n",
        "plt.plot(history.history[\"val_loss\"], color=\"r\")\n",
        "plt.ylabel(\"loss\")\n",
        "plt.xlabel(\"Epochs\")\n",
        "plt.show()"
      ],
      "execution_count": 150,
      "outputs": [
        {
          "output_type": "display_data",
          "data": {
            "image/png": "[encoded data removed]",
            "text/plain": [
              "<Figure size 432x288 with 1 Axes>"
            ]
          },
          "metadata": {
            "tags": [],
            "needs_background": "light"
          }
        }
      ]
    },
    {
      "cell_type": "code",
      "metadata": {
        "id": "sEMBUBaoW3Wq",
        "colab_type": "code",
        "outputId": "bf5875bb-adbb-4aa0-8997-73a5225e4594",
        "colab": {
          "base_uri": "https://localhost:8080/",
          "height": 279
        }
      },
      "source": [
        "# Visualisation de l'entrainement sur l'accuracy \n",
        "plt.plot(history.history[\"binary_accuracy\"], color=\"b\")\n",
        "plt.plot(history.history[\"val_binary_accuracy\"], color=\"r\")\n",
        "plt.ylabel(\"accuracy\")\n",
        "plt.xlabel(\"Epochs\")\n",
        "plt.show()"
      ],
      "execution_count": 151,
      "outputs": [
        {
          "output_type": "display_data",
          "data": {
            "image/png": "[encoded data removed]",
            "text/plain": [
              "<Figure size 432x288 with 1 Axes>"
            ]
          },
          "metadata": {
            "tags": [],
            "needs_background": "light"
          }
        }
      ]
    },
    {
      "cell_type": "code",
      "metadata": {
        "id": "iJ4dQXeTRI-_",
        "colab_type": "code",
        "colab": {
          "base_uri": "https://localhost:8080/",
          "height": 870
        },
        "outputId": "72798039-7274-4767-ff26-f8c116ab8e2f"
      },
      "source": [
        "for example, _ in test_data.take(1):\n",
        "  print(example, _)\n",
        "  print(model.predict_classes(example))"
      ],
      "execution_count": 155,
      "outputs": [
        {
          "output_type": "stream",
          "text": [
            "tf.Tensor(\n",
            "[[15461 15794 15058 15794 11755  7173 15794 15794  4285  9682     0     0\n",
            "      0     0     0     0     0     0     0     0     0     0     0]\n",
            " [ 3852 15794 15794  8845  1696 11731  3358 15794  1225 15794  8874  3027\n",
            "  14573     0     0     0     0     0     0     0     0     0     0]\n",
            " [15794  2483 10452 15794  7157  2679  7064 15794  5425  7891     0     0\n",
            "      0     0     0     0     0     0     0     0     0     0     0]\n",
            " [10366   244  1006  9084    91  9536  9740  5950 11169 14075  9464 14529\n",
            "      0     0     0     0     0     0     0     0     0     0     0]\n",
            " [ 2436 10737 14045 15794 12917 15794  2412 15794 15794 15794     0     0\n",
            "      0     0     0     0     0     0     0     0     0     0     0]\n",
            " [ 1532 15794  1100 15794 15794 15794 15794 15794  9780  7172  8464 15794\n",
            "   6251 15794 15794 15794  7891  7891 12262  3294  8261     0     0]\n",
            " [15615 15794  1564  5184  1931  1720 13795 13849 14499 15794     0     0\n",
            "      0     0     0     0     0     0     0     0     0     0     0]\n",
            " [15794 15794  2065 15794 15469  7064 15794  1951 15794 15794 15794   721\n",
            "  14672 15226 11755 15794  3027 15794 15794 13362     0     0     0]\n",
            " [15794 15794 15794 15794 15794 15794  1303  4052  5599     0     0     0\n",
            "      0     0     0     0     0     0     0     0     0     0     0]\n",
            " [ 4327 11198 13351  7033  3834  7064  5230     0     0     0     0     0\n",
            "      0     0     0     0     0     0     0     0     0     0     0]\n",
            " [ 7413 15794 11763 11755   501 12379 15794 15794 15794 15794   166 15794\n",
            "   8789 13967 15794 12376  3869 13942     0     0     0     0     0]\n",
            " [ 4091 13665  4508 15794 11665 15794 15794  5542 15794 15794  4030     0\n",
            "      0     0     0     0     0     0     0     0     0     0     0]\n",
            " [15794 15794  1696  4585 15794 15794  2463 15794 12590 11755  3794 15794\n",
            "  11651  6874 15794 15794  4067   482 11773 15794 15794  7018  5354]\n",
            " [ 1333 15794  2610 13413  6249 15794 15794  1662 15794  6073  5827 15794\n",
            "   9767     0     0     0     0     0     0     0     0     0     0]\n",
            " [ 9916  7854 12995 10059  4825 15794 14078 15794  8717 15794  4281  9582\n",
            "    505  9498  8079     0     0     0     0     0     0     0     0]\n",
            " [ 5324 15794 15794  2837  1696 15794  7498 15794 15794 15794 10669  1696\n",
            "  15794  3212 15794     0     0     0     0     0     0     0     0]], shape=(16, 23), dtype=int64) tf.Tensor([0 0 1 0 1 0 0 0 1 1 0 1 0 1 0 1], shape=(16,), dtype=int64)\n",
            "[[0]\n",
            " [0]\n",
            " [1]\n",
            " [0]\n",
            " [1]\n",
            " [0]\n",
            " [0]\n",
            " [0]\n",
            " [1]\n",
            " [1]\n",
            " [0]\n",
            " [1]\n",
            " [0]\n",
            " [1]\n",
            " [0]\n",
            " [1]]\n"
          ],
          "name": "stdout"
        }
      ]
    },
    {
      "cell_type": "code",
      "metadata": {
        "id": "OVbn7q2aYAyE",
        "colab_type": "code",
        "colab": {
          "base_uri": "https://localhost:8080/",
          "height": 68
        },
        "outputId": "9d67d5e9-05e6-414d-c608-cedf5dca7628"
      },
      "source": [
        "for example, label in test_data.take(1):\n",
        "  print(encoder.decode(example.numpy()[0]))\n",
        "  print(\"Prediction : {}\".format(model.predict_classes(example)[0]))\n",
        "  print(\"Real: {}\".format(label[0]))"
      ],
      "execution_count": 156,
      "outputs": [
        {
          "output_type": "stream",
          "text": [
            "ted cruz UNK obama comparison gop to iranians UNK death to america tcot\n",
            "Prediction : [1]\n",
            "Real: 1\n"
          ],
          "name": "stdout"
        }
      ]
    },
    {
      "cell_type": "code",
      "metadata": {
        "id": "kc9wqWqnRgZ-",
        "colab_type": "code",
        "colab": {}
      },
      "source": [
        ""
      ],
      "execution_count": 0,
      "outputs": []
    },
    {
      "cell_type": "code",
      "metadata": {
        "id": "U0hleUOHUw7_",
        "colab_type": "code",
        "colab": {}
      },
      "source": [
        "y_true = []\n",
        "y_pred = []\n",
        "for batch, true_labels in test_data.take(-1):\n",
        "  y_true += [true_labels.numpy()]\n",
        "  y_pred += [model.predict_classes(batch)]"
      ],
      "execution_count": 0,
      "outputs": []
    },
    {
      "cell_type": "code",
      "metadata": {
        "id": "hR1B3QOAU6lf",
        "colab_type": "code",
        "colab": {}
      },
      "source": [
        "y_true = tf.concat([batch for batch in y_true], axis=0).numpy()\n",
        "y_pred = tf.concat([batch for batch in y_pred], axis=0).numpy()"
      ],
      "execution_count": 0,
      "outputs": []
    },
    {
      "cell_type": "code",
      "metadata": {
        "id": "RigC-BRyU6vx",
        "colab_type": "code",
        "colab": {
          "base_uri": "https://localhost:8080/",
          "height": 282
        },
        "outputId": "fdb57aa3-7211-41f9-bf76-135aec6b3f04"
      },
      "source": [
        "from sklearn.metrics import confusion_matrix \n",
        "import seaborn as sns \n",
        "\n",
        "cm = confusion_matrix(y_true, y_pred)\n",
        "sns.heatmap(cm, annot=True, fmt='d')"
      ],
      "execution_count": 154,
      "outputs": [
        {
          "output_type": "execute_result",
          "data": {
            "text/plain": [
              "<matplotlib.axes._subplots.AxesSubplot at 0x7f15b0b3af98>"
            ]
          },
          "metadata": {
            "tags": []
          },
          "execution_count": 154
        },
        {
          "output_type": "display_data",
          "data": {
            "image/png": "[encoded data removed]",
            "text/plain": [
              "<Figure size 432x288 with 2 Axes>"
            ]
          },
          "metadata": {
            "tags": [],
            "needs_background": "light"
          }
        }
      ]
    },
    {
      "cell_type": "code",
      "metadata": {
        "id": "WBys4ydoU4g9",
        "colab_type": "code",
        "colab": {}
      },
      "source": [
        ""
      ],
      "execution_count": 0,
      "outputs": []
    },
    {
      "cell_type": "code",
      "metadata": {
        "id": "rlRMtC03Rgex",
        "colab_type": "code",
        "colab": {}
      },
      "source": [
        "#\n",
        "def most_confused(test_data, threshold):\n",
        "  for example, labels in test_data.take(-1):\n",
        "    y_pred = model.predict(example)\n",
        "    mae = np.abs(y_pred.squeeze() - labels.numpy().squeeze())\n",
        "\n",
        "    for i in np.where(mae>threshold)[0]:\n",
        "     \n",
        "      plt.title(\"prediction: {}\\n MAE : {}\".format(y_pred[i], mae[i]))\n",
        "      \n",
        "\n",
        "\n",
        "  \n",
        "most_confused(test_data, 0.8)"
      ],
      "execution_count": 0,
      "outputs": []
    },
    {
      "cell_type": "code",
      "metadata": {
        "id": "_WF9jT-1U55c",
        "colab_type": "code",
        "colab": {}
      },
      "source": [
        ""
      ],
      "execution_count": 0,
      "outputs": []
    }
  ]
}